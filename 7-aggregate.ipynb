{
  "cells": [
    {
      "cell_type": "markdown",
      "metadata": {
        "id": "hrklEKqK7Oka"
      },
      "source": [
        "# Chapter 7: Aggregate Methods"
      ]
    },
    {
      "cell_type": "markdown",
      "metadata": {
        "id": "48HkjeUB7Okc"
      },
      "source": [
        "Aggregations allow us to take detailed data and collapse it to a single value"
      ]
    },
    {
      "cell_type": "code",
      "execution_count": null,
      "metadata": {
        "id": "ezbKEip77Okd",
        "outputId": "3409485f-f40d-46e1-903b-e6c29667beb4"
      },
      "outputs": [
        {
          "name": "stderr",
          "output_type": "stream",
          "text": [
            "C:\\Users\\Joanna\\AppData\\Local\\Temp\\ipykernel_21292\\3812714254.py:4: DtypeWarning: Columns (68,70,71,72,73,74,76,79) have mixed types. Specify dtype option on import or set low_memory=False.\n",
            "  df = pd.read_csv(url)\n"
          ]
        }
      ],
      "source": [
        "import pandas as pd\n",
        "import numpy as np\n",
        "\n",
        "url = \"http://github.com/mattharrison/datasets/raw/master/data/vehicles.csv.zip\"\n",
        "df = pd.read_csv(url)\n",
        "city_mpg = df.city08\n",
        "highway_mpg = df.highway08"
      ]
    },
    {
      "cell_type": "markdown",
      "metadata": {
        "id": "uaHjCev17Oke"
      },
      "source": [
        "## 7.1 Aggregations"
      ]
    },
    {
      "cell_type": "code",
      "execution_count": null,
      "metadata": {
        "id": "NWw8nmRa7Oke",
        "outputId": "9d6d8e10-b0b4-4cc2-95ff-31de9bb6cc40"
      },
      "outputs": [
        {
          "data": {
            "text/plain": [
              "18.369045304297103"
            ]
          },
          "execution_count": 3,
          "metadata": {},
          "output_type": "execute_result"
        }
      ],
      "source": [
        "# mean\n",
        "city_mpg.mean()"
      ]
    },
    {
      "cell_type": "code",
      "execution_count": null,
      "metadata": {
        "id": "lW2NLHLC7Okf",
        "outputId": "b61e1296-8ebc-4dd5-c5f8-2bb1169ef7d8"
      },
      "outputs": [
        {
          "name": "stdout",
          "output_type": "stream",
          "text": [
            "False\n",
            "False\n"
          ]
        }
      ],
      "source": [
        "# aggregate properties\n",
        "print(city_mpg.is_unique)\n",
        "print(city_mpg.is_monotonic_increasing)"
      ]
    },
    {
      "cell_type": "code",
      "execution_count": null,
      "metadata": {
        "id": "uf6PqMEE7Okf",
        "outputId": "3eac4da2-9b1e-4943-d85f-e33558647c30"
      },
      "outputs": [
        {
          "data": {
            "text/plain": [
              "17.0"
            ]
          },
          "execution_count": 10,
          "metadata": {},
          "output_type": "execute_result"
        }
      ],
      "source": [
        "# quantile\n",
        "city_mpg.quantile() # default is 50% quantile\n"
      ]
    },
    {
      "cell_type": "code",
      "execution_count": null,
      "metadata": {
        "id": "JMyz-ld07Okf",
        "outputId": "057dfe63-bec8-4fd5-9ed3-2272cec57a7c"
      },
      "outputs": [
        {
          "data": {
            "text/plain": [
              "24.0"
            ]
          },
          "execution_count": 11,
          "metadata": {},
          "output_type": "execute_result"
        }
      ],
      "source": [
        "city_mpg.quantile(0.90)"
      ]
    },
    {
      "cell_type": "code",
      "execution_count": null,
      "metadata": {
        "id": "X141Je7z7Okg",
        "outputId": "edbd3978-7abd-4463-e34e-b7dcef766662"
      },
      "outputs": [
        {
          "data": {
            "text/plain": [
              "0.1    13.0\n",
              "0.5    17.0\n",
              "0.9    24.0\n",
              "Name: city08, dtype: float64"
            ]
          },
          "execution_count": 12,
          "metadata": {},
          "output_type": "execute_result"
        }
      ],
      "source": [
        "city_mpg.quantile([0.1, 0.5, 0.9])"
      ]
    },
    {
      "cell_type": "markdown",
      "metadata": {
        "id": "raLq00wC7Okh"
      },
      "source": [
        "## 7.2 Count and Mean of an Attribute"
      ]
    },
    {
      "cell_type": "markdown",
      "metadata": {
        "id": "qCBxQLn17Okh"
      },
      "source": [
        "- If we want to count the values that meet some criteria, we can use the ``.sum`` method"
      ]
    },
    {
      "cell_type": "code",
      "execution_count": null,
      "metadata": {
        "id": "h9-hTUD47Okh",
        "outputId": "75f909c6-37bd-415c-c2df-6f19de4cf8ed"
      },
      "outputs": [
        {
          "data": {
            "text/plain": [
              "10272"
            ]
          },
          "execution_count": 14,
          "metadata": {},
          "output_type": "execute_result"
        }
      ],
      "source": [
        "# get count of cars with mileage greater than 20\n",
        "(city_mpg\n",
        ".gt(20)\n",
        ".sum())"
      ]
    },
    {
      "cell_type": "code",
      "execution_count": null,
      "metadata": {
        "id": "HOvKg_Xh7Oki",
        "outputId": "2ac29b50-9fda-47d5-d27b-383c2ea04b9f"
      },
      "outputs": [
        {
          "data": {
            "text/plain": [
              "24.965973167412017"
            ]
          },
          "execution_count": 19,
          "metadata": {},
          "output_type": "execute_result"
        }
      ],
      "source": [
        "# get percentage of values that meet some criteria\n",
        "(city_mpg\n",
        ".gt(20)\n",
        ".mul(100)\n",
        ".mean())"
      ]
    },
    {
      "cell_type": "code",
      "execution_count": null,
      "metadata": {
        "id": "NEsmyVLH7Oki",
        "outputId": "87606136-7e12-40c0-88f3-d0a2b7d387e1"
      },
      "outputs": [
        {
          "data": {
            "text/plain": [
              "0        False\n",
              "1        False\n",
              "2         True\n",
              "3        False\n",
              "4        False\n",
              "         ...  \n",
              "41139    False\n",
              "41140    False\n",
              "41141    False\n",
              "41142    False\n",
              "41143    False\n",
              "Name: city08, Length: 41144, dtype: bool"
            ]
          },
          "execution_count": 20,
          "metadata": {},
          "output_type": "execute_result"
        }
      ],
      "source": [
        "# returns boolean\n",
        "(city_mpg\n",
        ".gt(20))"
      ]
    },
    {
      "cell_type": "code",
      "execution_count": null,
      "metadata": {
        "id": "VFIROUEk7Oki",
        "outputId": "1a69aa31-b15b-4654-d7ca-c3c2f5322f43"
      },
      "outputs": [
        {
          "data": {
            "text/plain": [
              "10272"
            ]
          },
          "execution_count": 21,
          "metadata": {},
          "output_type": "execute_result"
        }
      ],
      "source": [
        "# sums all the boolean == True\n",
        "(city_mpg\n",
        ".gt(20)\n",
        ".sum())"
      ]
    },
    {
      "cell_type": "markdown",
      "metadata": {
        "id": "gnACxe-_7Okj"
      },
      "source": [
        "## 7.3 .agg and Aggregation Strings"
      ]
    },
    {
      "cell_type": "markdown",
      "metadata": {
        "id": "GgqsjHx97Okj"
      },
      "source": [
        "- ``.agg`` shines in the ability to perform multiple aggregations"
      ]
    },
    {
      "cell_type": "code",
      "execution_count": null,
      "metadata": {
        "id": "ENF7e9VF7Okj"
      },
      "outputs": [],
      "source": [
        "def second_to_last(s):\n",
        "    return s.iloc[-2]"
      ]
    },
    {
      "cell_type": "code",
      "execution_count": null,
      "metadata": {
        "id": "VlgLSUxo7Okj",
        "outputId": "dcf09ecd-c171-4966-e281-786d7e1920db"
      },
      "outputs": [
        {
          "data": {
            "text/plain": [
              "mean               18.369045\n",
              "var                62.503036\n",
              "max               150.000000\n",
              "second_to_last     18.000000\n",
              "Name: city08, dtype: float64"
            ]
          },
          "execution_count": 24,
          "metadata": {},
          "output_type": "execute_result"
        }
      ],
      "source": [
        "city_mpg.agg(['mean', np.var, max, second_to_last])"
      ]
    }
  ],
  "metadata": {
    "kernelspec": {
      "display_name": "Python 3.10.8 ('effective-pandas')",
      "language": "python",
      "name": "python3"
    },
    "language_info": {
      "codemirror_mode": {
        "name": "ipython",
        "version": 3
      },
      "file_extension": ".py",
      "mimetype": "text/x-python",
      "name": "python",
      "nbconvert_exporter": "python",
      "pygments_lexer": "ipython3",
      "version": "3.10.8"
    },
    "orig_nbformat": 4,
    "vscode": {
      "interpreter": {
        "hash": "916f15ef99c20fa40d55a2f85302b4abf960d09ddbbdff0ce9a6a05a29866fa2"
      }
    },
    "colab": {
      "provenance": []
    }
  },
  "nbformat": 4,
  "nbformat_minor": 0
}