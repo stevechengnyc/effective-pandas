{
  "cells": [
    {
      "cell_type": "markdown",
      "metadata": {
        "id": "HEli8zYp8sTH"
      },
      "source": [
        "# Chapter 9: Manipulation Methods"
      ]
    },
    {
      "cell_type": "code",
      "execution_count": 1,
      "metadata": {
        "id": "un6KWXxQ8sTH",
        "outputId": "5b9d15fc-4e0f-464e-b704-b8edeec14457",
        "colab": {
          "base_uri": "https://localhost:8080/"
        }
      },
      "outputs": [
        {
          "output_type": "stream",
          "name": "stderr",
          "text": [
            "<ipython-input-1-b973022d81c3>:5: DtypeWarning: Columns (68,70,71,72,73,74,76,79) have mixed types. Specify dtype option on import or set low_memory=False.\n",
            "  df = pd.read_csv(url)\n"
          ]
        }
      ],
      "source": [
        "import pandas as pd\n",
        "import numpy as np\n",
        "\n",
        "url = \"http://github.com/mattharrison/datasets/raw/master/data/vehicles.csv.zip\"\n",
        "df = pd.read_csv(url)\n",
        "city_mpg = df.city08\n",
        "highway_mpg = df.highway08"
      ]
    },
    {
      "cell_type": "code",
      "source": [
        "city_mpg"
      ],
      "metadata": {
        "id": "qh-H6qw38xdj",
        "outputId": "4ac3785b-3bc8-4dc6-bca8-d14d089a9e4d",
        "colab": {
          "base_uri": "https://localhost:8080/",
          "height": 458
        }
      },
      "execution_count": 2,
      "outputs": [
        {
          "output_type": "execute_result",
          "data": {
            "text/plain": [
              "0        19\n",
              "1         9\n",
              "2        23\n",
              "3        10\n",
              "4        17\n",
              "         ..\n",
              "41139    19\n",
              "41140    20\n",
              "41141    18\n",
              "41142    18\n",
              "41143    16\n",
              "Name: city08, Length: 41144, dtype: int64"
            ],
            "text/html": [
              "<div>\n",
              "<style scoped>\n",
              "    .dataframe tbody tr th:only-of-type {\n",
              "        vertical-align: middle;\n",
              "    }\n",
              "\n",
              "    .dataframe tbody tr th {\n",
              "        vertical-align: top;\n",
              "    }\n",
              "\n",
              "    .dataframe thead th {\n",
              "        text-align: right;\n",
              "    }\n",
              "</style>\n",
              "<table border=\"1\" class=\"dataframe\">\n",
              "  <thead>\n",
              "    <tr style=\"text-align: right;\">\n",
              "      <th></th>\n",
              "      <th>city08</th>\n",
              "    </tr>\n",
              "  </thead>\n",
              "  <tbody>\n",
              "    <tr>\n",
              "      <th>0</th>\n",
              "      <td>19</td>\n",
              "    </tr>\n",
              "    <tr>\n",
              "      <th>1</th>\n",
              "      <td>9</td>\n",
              "    </tr>\n",
              "    <tr>\n",
              "      <th>2</th>\n",
              "      <td>23</td>\n",
              "    </tr>\n",
              "    <tr>\n",
              "      <th>3</th>\n",
              "      <td>10</td>\n",
              "    </tr>\n",
              "    <tr>\n",
              "      <th>4</th>\n",
              "      <td>17</td>\n",
              "    </tr>\n",
              "    <tr>\n",
              "      <th>...</th>\n",
              "      <td>...</td>\n",
              "    </tr>\n",
              "    <tr>\n",
              "      <th>41139</th>\n",
              "      <td>19</td>\n",
              "    </tr>\n",
              "    <tr>\n",
              "      <th>41140</th>\n",
              "      <td>20</td>\n",
              "    </tr>\n",
              "    <tr>\n",
              "      <th>41141</th>\n",
              "      <td>18</td>\n",
              "    </tr>\n",
              "    <tr>\n",
              "      <th>41142</th>\n",
              "      <td>18</td>\n",
              "    </tr>\n",
              "    <tr>\n",
              "      <th>41143</th>\n",
              "      <td>16</td>\n",
              "    </tr>\n",
              "  </tbody>\n",
              "</table>\n",
              "<p>41144 rows × 1 columns</p>\n",
              "</div><br><label><b>dtype:</b> int64</label>"
            ]
          },
          "metadata": {},
          "execution_count": 2
        }
      ]
    },
    {
      "cell_type": "code",
      "source": [
        "city_mpg.to_frame()"
      ],
      "metadata": {
        "id": "myueoXdE80UB",
        "outputId": "7f00ce2d-6767-46bc-c978-3d722e369601",
        "colab": {
          "base_uri": "https://localhost:8080/",
          "height": 424
        }
      },
      "execution_count": 3,
      "outputs": [
        {
          "output_type": "execute_result",
          "data": {
            "text/plain": [
              "       city08\n",
              "0          19\n",
              "1           9\n",
              "2          23\n",
              "3          10\n",
              "4          17\n",
              "...       ...\n",
              "41139      19\n",
              "41140      20\n",
              "41141      18\n",
              "41142      18\n",
              "41143      16\n",
              "\n",
              "[41144 rows x 1 columns]"
            ],
            "text/html": [
              "\n",
              "  <div id=\"df-89da503b-ae38-4174-98dc-ed46e79a5bd9\" class=\"colab-df-container\">\n",
              "    <div>\n",
              "<style scoped>\n",
              "    .dataframe tbody tr th:only-of-type {\n",
              "        vertical-align: middle;\n",
              "    }\n",
              "\n",
              "    .dataframe tbody tr th {\n",
              "        vertical-align: top;\n",
              "    }\n",
              "\n",
              "    .dataframe thead th {\n",
              "        text-align: right;\n",
              "    }\n",
              "</style>\n",
              "<table border=\"1\" class=\"dataframe\">\n",
              "  <thead>\n",
              "    <tr style=\"text-align: right;\">\n",
              "      <th></th>\n",
              "      <th>city08</th>\n",
              "    </tr>\n",
              "  </thead>\n",
              "  <tbody>\n",
              "    <tr>\n",
              "      <th>0</th>\n",
              "      <td>19</td>\n",
              "    </tr>\n",
              "    <tr>\n",
              "      <th>1</th>\n",
              "      <td>9</td>\n",
              "    </tr>\n",
              "    <tr>\n",
              "      <th>2</th>\n",
              "      <td>23</td>\n",
              "    </tr>\n",
              "    <tr>\n",
              "      <th>3</th>\n",
              "      <td>10</td>\n",
              "    </tr>\n",
              "    <tr>\n",
              "      <th>4</th>\n",
              "      <td>17</td>\n",
              "    </tr>\n",
              "    <tr>\n",
              "      <th>...</th>\n",
              "      <td>...</td>\n",
              "    </tr>\n",
              "    <tr>\n",
              "      <th>41139</th>\n",
              "      <td>19</td>\n",
              "    </tr>\n",
              "    <tr>\n",
              "      <th>41140</th>\n",
              "      <td>20</td>\n",
              "    </tr>\n",
              "    <tr>\n",
              "      <th>41141</th>\n",
              "      <td>18</td>\n",
              "    </tr>\n",
              "    <tr>\n",
              "      <th>41142</th>\n",
              "      <td>18</td>\n",
              "    </tr>\n",
              "    <tr>\n",
              "      <th>41143</th>\n",
              "      <td>16</td>\n",
              "    </tr>\n",
              "  </tbody>\n",
              "</table>\n",
              "<p>41144 rows × 1 columns</p>\n",
              "</div>\n",
              "    <div class=\"colab-df-buttons\">\n",
              "\n",
              "  <div class=\"colab-df-container\">\n",
              "    <button class=\"colab-df-convert\" onclick=\"convertToInteractive('df-89da503b-ae38-4174-98dc-ed46e79a5bd9')\"\n",
              "            title=\"Convert this dataframe to an interactive table.\"\n",
              "            style=\"display:none;\">\n",
              "\n",
              "  <svg xmlns=\"http://www.w3.org/2000/svg\" height=\"24px\" viewBox=\"0 -960 960 960\">\n",
              "    <path d=\"M120-120v-720h720v720H120Zm60-500h600v-160H180v160Zm220 220h160v-160H400v160Zm0 220h160v-160H400v160ZM180-400h160v-160H180v160Zm440 0h160v-160H620v160ZM180-180h160v-160H180v160Zm440 0h160v-160H620v160Z\"/>\n",
              "  </svg>\n",
              "    </button>\n",
              "\n",
              "  <style>\n",
              "    .colab-df-container {\n",
              "      display:flex;\n",
              "      gap: 12px;\n",
              "    }\n",
              "\n",
              "    .colab-df-convert {\n",
              "      background-color: #E8F0FE;\n",
              "      border: none;\n",
              "      border-radius: 50%;\n",
              "      cursor: pointer;\n",
              "      display: none;\n",
              "      fill: #1967D2;\n",
              "      height: 32px;\n",
              "      padding: 0 0 0 0;\n",
              "      width: 32px;\n",
              "    }\n",
              "\n",
              "    .colab-df-convert:hover {\n",
              "      background-color: #E2EBFA;\n",
              "      box-shadow: 0px 1px 2px rgba(60, 64, 67, 0.3), 0px 1px 3px 1px rgba(60, 64, 67, 0.15);\n",
              "      fill: #174EA6;\n",
              "    }\n",
              "\n",
              "    .colab-df-buttons div {\n",
              "      margin-bottom: 4px;\n",
              "    }\n",
              "\n",
              "    [theme=dark] .colab-df-convert {\n",
              "      background-color: #3B4455;\n",
              "      fill: #D2E3FC;\n",
              "    }\n",
              "\n",
              "    [theme=dark] .colab-df-convert:hover {\n",
              "      background-color: #434B5C;\n",
              "      box-shadow: 0px 1px 3px 1px rgba(0, 0, 0, 0.15);\n",
              "      filter: drop-shadow(0px 1px 2px rgba(0, 0, 0, 0.3));\n",
              "      fill: #FFFFFF;\n",
              "    }\n",
              "  </style>\n",
              "\n",
              "    <script>\n",
              "      const buttonEl =\n",
              "        document.querySelector('#df-89da503b-ae38-4174-98dc-ed46e79a5bd9 button.colab-df-convert');\n",
              "      buttonEl.style.display =\n",
              "        google.colab.kernel.accessAllowed ? 'block' : 'none';\n",
              "\n",
              "      async function convertToInteractive(key) {\n",
              "        const element = document.querySelector('#df-89da503b-ae38-4174-98dc-ed46e79a5bd9');\n",
              "        const dataTable =\n",
              "          await google.colab.kernel.invokeFunction('convertToInteractive',\n",
              "                                                    [key], {});\n",
              "        if (!dataTable) return;\n",
              "\n",
              "        const docLinkHtml = 'Like what you see? Visit the ' +\n",
              "          '<a target=\"_blank\" href=https://colab.research.google.com/notebooks/data_table.ipynb>data table notebook</a>'\n",
              "          + ' to learn more about interactive tables.';\n",
              "        element.innerHTML = '';\n",
              "        dataTable['output_type'] = 'display_data';\n",
              "        await google.colab.output.renderOutput(dataTable, element);\n",
              "        const docLink = document.createElement('div');\n",
              "        docLink.innerHTML = docLinkHtml;\n",
              "        element.appendChild(docLink);\n",
              "      }\n",
              "    </script>\n",
              "  </div>\n",
              "\n",
              "\n",
              "<div id=\"df-eac3e9ea-357a-4973-a0ec-9b48572e6e54\">\n",
              "  <button class=\"colab-df-quickchart\" onclick=\"quickchart('df-eac3e9ea-357a-4973-a0ec-9b48572e6e54')\"\n",
              "            title=\"Suggest charts\"\n",
              "            style=\"display:none;\">\n",
              "\n",
              "<svg xmlns=\"http://www.w3.org/2000/svg\" height=\"24px\"viewBox=\"0 0 24 24\"\n",
              "     width=\"24px\">\n",
              "    <g>\n",
              "        <path d=\"M19 3H5c-1.1 0-2 .9-2 2v14c0 1.1.9 2 2 2h14c1.1 0 2-.9 2-2V5c0-1.1-.9-2-2-2zM9 17H7v-7h2v7zm4 0h-2V7h2v10zm4 0h-2v-4h2v4z\"/>\n",
              "    </g>\n",
              "</svg>\n",
              "  </button>\n",
              "\n",
              "<style>\n",
              "  .colab-df-quickchart {\n",
              "      --bg-color: #E8F0FE;\n",
              "      --fill-color: #1967D2;\n",
              "      --hover-bg-color: #E2EBFA;\n",
              "      --hover-fill-color: #174EA6;\n",
              "      --disabled-fill-color: #AAA;\n",
              "      --disabled-bg-color: #DDD;\n",
              "  }\n",
              "\n",
              "  [theme=dark] .colab-df-quickchart {\n",
              "      --bg-color: #3B4455;\n",
              "      --fill-color: #D2E3FC;\n",
              "      --hover-bg-color: #434B5C;\n",
              "      --hover-fill-color: #FFFFFF;\n",
              "      --disabled-bg-color: #3B4455;\n",
              "      --disabled-fill-color: #666;\n",
              "  }\n",
              "\n",
              "  .colab-df-quickchart {\n",
              "    background-color: var(--bg-color);\n",
              "    border: none;\n",
              "    border-radius: 50%;\n",
              "    cursor: pointer;\n",
              "    display: none;\n",
              "    fill: var(--fill-color);\n",
              "    height: 32px;\n",
              "    padding: 0;\n",
              "    width: 32px;\n",
              "  }\n",
              "\n",
              "  .colab-df-quickchart:hover {\n",
              "    background-color: var(--hover-bg-color);\n",
              "    box-shadow: 0 1px 2px rgba(60, 64, 67, 0.3), 0 1px 3px 1px rgba(60, 64, 67, 0.15);\n",
              "    fill: var(--button-hover-fill-color);\n",
              "  }\n",
              "\n",
              "  .colab-df-quickchart-complete:disabled,\n",
              "  .colab-df-quickchart-complete:disabled:hover {\n",
              "    background-color: var(--disabled-bg-color);\n",
              "    fill: var(--disabled-fill-color);\n",
              "    box-shadow: none;\n",
              "  }\n",
              "\n",
              "  .colab-df-spinner {\n",
              "    border: 2px solid var(--fill-color);\n",
              "    border-color: transparent;\n",
              "    border-bottom-color: var(--fill-color);\n",
              "    animation:\n",
              "      spin 1s steps(1) infinite;\n",
              "  }\n",
              "\n",
              "  @keyframes spin {\n",
              "    0% {\n",
              "      border-color: transparent;\n",
              "      border-bottom-color: var(--fill-color);\n",
              "      border-left-color: var(--fill-color);\n",
              "    }\n",
              "    20% {\n",
              "      border-color: transparent;\n",
              "      border-left-color: var(--fill-color);\n",
              "      border-top-color: var(--fill-color);\n",
              "    }\n",
              "    30% {\n",
              "      border-color: transparent;\n",
              "      border-left-color: var(--fill-color);\n",
              "      border-top-color: var(--fill-color);\n",
              "      border-right-color: var(--fill-color);\n",
              "    }\n",
              "    40% {\n",
              "      border-color: transparent;\n",
              "      border-right-color: var(--fill-color);\n",
              "      border-top-color: var(--fill-color);\n",
              "    }\n",
              "    60% {\n",
              "      border-color: transparent;\n",
              "      border-right-color: var(--fill-color);\n",
              "    }\n",
              "    80% {\n",
              "      border-color: transparent;\n",
              "      border-right-color: var(--fill-color);\n",
              "      border-bottom-color: var(--fill-color);\n",
              "    }\n",
              "    90% {\n",
              "      border-color: transparent;\n",
              "      border-bottom-color: var(--fill-color);\n",
              "    }\n",
              "  }\n",
              "</style>\n",
              "\n",
              "  <script>\n",
              "    async function quickchart(key) {\n",
              "      const quickchartButtonEl =\n",
              "        document.querySelector('#' + key + ' button');\n",
              "      quickchartButtonEl.disabled = true;  // To prevent multiple clicks.\n",
              "      quickchartButtonEl.classList.add('colab-df-spinner');\n",
              "      try {\n",
              "        const charts = await google.colab.kernel.invokeFunction(\n",
              "            'suggestCharts', [key], {});\n",
              "      } catch (error) {\n",
              "        console.error('Error during call to suggestCharts:', error);\n",
              "      }\n",
              "      quickchartButtonEl.classList.remove('colab-df-spinner');\n",
              "      quickchartButtonEl.classList.add('colab-df-quickchart-complete');\n",
              "    }\n",
              "    (() => {\n",
              "      let quickchartButtonEl =\n",
              "        document.querySelector('#df-eac3e9ea-357a-4973-a0ec-9b48572e6e54 button');\n",
              "      quickchartButtonEl.style.display =\n",
              "        google.colab.kernel.accessAllowed ? 'block' : 'none';\n",
              "    })();\n",
              "  </script>\n",
              "</div>\n",
              "\n",
              "    </div>\n",
              "  </div>\n"
            ],
            "application/vnd.google.colaboratory.intrinsic+json": {
              "type": "dataframe",
              "summary": "{\n  \"name\": \"city_mpg\",\n  \"rows\": 41144,\n  \"fields\": [\n    {\n      \"column\": \"city08\",\n      \"properties\": {\n        \"dtype\": \"number\",\n        \"std\": 7,\n        \"min\": 6,\n        \"max\": 150,\n        \"num_unique_values\": 105,\n        \"samples\": [\n          7,\n          60,\n          78\n        ],\n        \"semantic_type\": \"\",\n        \"description\": \"\"\n      }\n    }\n  ]\n}"
            }
          },
          "metadata": {},
          "execution_count": 3
        }
      ]
    },
    {
      "cell_type": "code",
      "source": [],
      "metadata": {
        "id": "TnZu8VjD80Xh"
      },
      "execution_count": null,
      "outputs": []
    },
    {
      "cell_type": "code",
      "source": [],
      "metadata": {
        "id": "j0ohLgSW80cK"
      },
      "execution_count": null,
      "outputs": []
    },
    {
      "cell_type": "markdown",
      "metadata": {
        "id": "EpJRpXvD8sTJ"
      },
      "source": [
        "## 9.1 .apply, .where and .mask"
      ]
    },
    {
      "cell_type": "code",
      "source": [
        "def gt30(val):\n",
        "  return val > 30\n",
        ""
      ],
      "metadata": {
        "id": "UjPJ9Bv68zdX"
      },
      "execution_count": 4,
      "outputs": []
    },
    {
      "cell_type": "code",
      "source": [
        "%%timeit\n",
        "city_mpg.apply(gt30)"
      ],
      "metadata": {
        "id": "oR-d6JuIF7he",
        "outputId": "491fc10c-83bc-4f71-a72b-198b3f367142",
        "colab": {
          "base_uri": "https://localhost:8080/"
        }
      },
      "execution_count": 5,
      "outputs": [
        {
          "output_type": "stream",
          "name": "stdout",
          "text": [
            "16.2 ms ± 365 µs per loop (mean ± std. dev. of 7 runs, 10 loops each)\n"
          ]
        }
      ]
    },
    {
      "cell_type": "code",
      "source": [
        "%%timeit\n",
        "city_mpg.gt(30)"
      ],
      "metadata": {
        "id": "eeTgWwMzF7p6",
        "outputId": "de903bfb-dd6c-4ee8-94dc-e08817d77932",
        "colab": {
          "base_uri": "https://localhost:8080/"
        }
      },
      "execution_count": 6,
      "outputs": [
        {
          "output_type": "stream",
          "name": "stdout",
          "text": [
            "106 µs ± 28.3 µs per loop (mean ± std. dev. of 7 runs, 10000 loops each)\n"
          ]
        }
      ]
    },
    {
      "cell_type": "code",
      "source": [
        "make = df.make"
      ],
      "metadata": {
        "id": "nerfwlMFF7tb"
      },
      "execution_count": 7,
      "outputs": []
    },
    {
      "cell_type": "code",
      "source": [
        "make"
      ],
      "metadata": {
        "id": "poFWTuUjF7wd",
        "outputId": "7bc0ac66-c86b-4e75-f556-6dad867687f2",
        "colab": {
          "base_uri": "https://localhost:8080/",
          "height": 458
        }
      },
      "execution_count": 8,
      "outputs": [
        {
          "output_type": "execute_result",
          "data": {
            "text/plain": [
              "0        Alfa Romeo\n",
              "1           Ferrari\n",
              "2             Dodge\n",
              "3             Dodge\n",
              "4            Subaru\n",
              "            ...    \n",
              "41139        Subaru\n",
              "41140        Subaru\n",
              "41141        Subaru\n",
              "41142        Subaru\n",
              "41143        Subaru\n",
              "Name: make, Length: 41144, dtype: object"
            ],
            "text/html": [
              "<div>\n",
              "<style scoped>\n",
              "    .dataframe tbody tr th:only-of-type {\n",
              "        vertical-align: middle;\n",
              "    }\n",
              "\n",
              "    .dataframe tbody tr th {\n",
              "        vertical-align: top;\n",
              "    }\n",
              "\n",
              "    .dataframe thead th {\n",
              "        text-align: right;\n",
              "    }\n",
              "</style>\n",
              "<table border=\"1\" class=\"dataframe\">\n",
              "  <thead>\n",
              "    <tr style=\"text-align: right;\">\n",
              "      <th></th>\n",
              "      <th>make</th>\n",
              "    </tr>\n",
              "  </thead>\n",
              "  <tbody>\n",
              "    <tr>\n",
              "      <th>0</th>\n",
              "      <td>Alfa Romeo</td>\n",
              "    </tr>\n",
              "    <tr>\n",
              "      <th>1</th>\n",
              "      <td>Ferrari</td>\n",
              "    </tr>\n",
              "    <tr>\n",
              "      <th>2</th>\n",
              "      <td>Dodge</td>\n",
              "    </tr>\n",
              "    <tr>\n",
              "      <th>3</th>\n",
              "      <td>Dodge</td>\n",
              "    </tr>\n",
              "    <tr>\n",
              "      <th>4</th>\n",
              "      <td>Subaru</td>\n",
              "    </tr>\n",
              "    <tr>\n",
              "      <th>...</th>\n",
              "      <td>...</td>\n",
              "    </tr>\n",
              "    <tr>\n",
              "      <th>41139</th>\n",
              "      <td>Subaru</td>\n",
              "    </tr>\n",
              "    <tr>\n",
              "      <th>41140</th>\n",
              "      <td>Subaru</td>\n",
              "    </tr>\n",
              "    <tr>\n",
              "      <th>41141</th>\n",
              "      <td>Subaru</td>\n",
              "    </tr>\n",
              "    <tr>\n",
              "      <th>41142</th>\n",
              "      <td>Subaru</td>\n",
              "    </tr>\n",
              "    <tr>\n",
              "      <th>41143</th>\n",
              "      <td>Subaru</td>\n",
              "    </tr>\n",
              "  </tbody>\n",
              "</table>\n",
              "<p>41144 rows × 1 columns</p>\n",
              "</div><br><label><b>dtype:</b> object</label>"
            ]
          },
          "metadata": {},
          "execution_count": 8
        }
      ]
    },
    {
      "cell_type": "code",
      "source": [
        "make.value_counts()"
      ],
      "metadata": {
        "id": "NtMc0PqA8zib",
        "outputId": "bff2e344-2127-4bec-a257-4e885de0bc58",
        "colab": {
          "base_uri": "https://localhost:8080/",
          "height": 490
        }
      },
      "execution_count": 9,
      "outputs": [
        {
          "output_type": "execute_result",
          "data": {
            "text/plain": [
              "make\n",
              "Chevrolet                      4003\n",
              "Ford                           3371\n",
              "Dodge                          2583\n",
              "GMC                            2494\n",
              "Toyota                         2071\n",
              "                               ... \n",
              "Volga Associated Automobile       1\n",
              "Panos                             1\n",
              "Mahindra                          1\n",
              "Excalibur Autos                   1\n",
              "London Coach Co Inc               1\n",
              "Name: count, Length: 136, dtype: int64"
            ],
            "text/html": [
              "<div>\n",
              "<style scoped>\n",
              "    .dataframe tbody tr th:only-of-type {\n",
              "        vertical-align: middle;\n",
              "    }\n",
              "\n",
              "    .dataframe tbody tr th {\n",
              "        vertical-align: top;\n",
              "    }\n",
              "\n",
              "    .dataframe thead th {\n",
              "        text-align: right;\n",
              "    }\n",
              "</style>\n",
              "<table border=\"1\" class=\"dataframe\">\n",
              "  <thead>\n",
              "    <tr style=\"text-align: right;\">\n",
              "      <th></th>\n",
              "      <th>count</th>\n",
              "    </tr>\n",
              "    <tr>\n",
              "      <th>make</th>\n",
              "      <th></th>\n",
              "    </tr>\n",
              "  </thead>\n",
              "  <tbody>\n",
              "    <tr>\n",
              "      <th>Chevrolet</th>\n",
              "      <td>4003</td>\n",
              "    </tr>\n",
              "    <tr>\n",
              "      <th>Ford</th>\n",
              "      <td>3371</td>\n",
              "    </tr>\n",
              "    <tr>\n",
              "      <th>Dodge</th>\n",
              "      <td>2583</td>\n",
              "    </tr>\n",
              "    <tr>\n",
              "      <th>GMC</th>\n",
              "      <td>2494</td>\n",
              "    </tr>\n",
              "    <tr>\n",
              "      <th>Toyota</th>\n",
              "      <td>2071</td>\n",
              "    </tr>\n",
              "    <tr>\n",
              "      <th>...</th>\n",
              "      <td>...</td>\n",
              "    </tr>\n",
              "    <tr>\n",
              "      <th>Volga Associated Automobile</th>\n",
              "      <td>1</td>\n",
              "    </tr>\n",
              "    <tr>\n",
              "      <th>Panos</th>\n",
              "      <td>1</td>\n",
              "    </tr>\n",
              "    <tr>\n",
              "      <th>Mahindra</th>\n",
              "      <td>1</td>\n",
              "    </tr>\n",
              "    <tr>\n",
              "      <th>Excalibur Autos</th>\n",
              "      <td>1</td>\n",
              "    </tr>\n",
              "    <tr>\n",
              "      <th>London Coach Co Inc</th>\n",
              "      <td>1</td>\n",
              "    </tr>\n",
              "  </tbody>\n",
              "</table>\n",
              "<p>136 rows × 1 columns</p>\n",
              "</div><br><label><b>dtype:</b> int64</label>"
            ]
          },
          "metadata": {},
          "execution_count": 9
        }
      ]
    },
    {
      "cell_type": "code",
      "source": [
        "top5 = make.value_counts().index[:5]\n",
        "top5"
      ],
      "metadata": {
        "id": "B8jY0BEm8zo1",
        "outputId": "a8c685d9-cd92-470c-b4b9-00e01aec5338",
        "colab": {
          "base_uri": "https://localhost:8080/"
        }
      },
      "execution_count": 11,
      "outputs": [
        {
          "output_type": "execute_result",
          "data": {
            "text/plain": [
              "Index(['Chevrolet', 'Ford', 'Dodge', 'GMC', 'Toyota'], dtype='object', name='make')"
            ]
          },
          "metadata": {},
          "execution_count": 11
        }
      ]
    },
    {
      "cell_type": "code",
      "source": [
        "tmp = make.value_counts()\n",
        "tmp"
      ],
      "metadata": {
        "id": "_qFCzKJFJNti",
        "outputId": "7e165499-2f36-4a4e-9f9a-486177ae933a",
        "colab": {
          "base_uri": "https://localhost:8080/",
          "height": 490
        }
      },
      "execution_count": 12,
      "outputs": [
        {
          "output_type": "execute_result",
          "data": {
            "text/plain": [
              "make\n",
              "Chevrolet                      4003\n",
              "Ford                           3371\n",
              "Dodge                          2583\n",
              "GMC                            2494\n",
              "Toyota                         2071\n",
              "                               ... \n",
              "Volga Associated Automobile       1\n",
              "Panos                             1\n",
              "Mahindra                          1\n",
              "Excalibur Autos                   1\n",
              "London Coach Co Inc               1\n",
              "Name: count, Length: 136, dtype: int64"
            ],
            "text/html": [
              "<div>\n",
              "<style scoped>\n",
              "    .dataframe tbody tr th:only-of-type {\n",
              "        vertical-align: middle;\n",
              "    }\n",
              "\n",
              "    .dataframe tbody tr th {\n",
              "        vertical-align: top;\n",
              "    }\n",
              "\n",
              "    .dataframe thead th {\n",
              "        text-align: right;\n",
              "    }\n",
              "</style>\n",
              "<table border=\"1\" class=\"dataframe\">\n",
              "  <thead>\n",
              "    <tr style=\"text-align: right;\">\n",
              "      <th></th>\n",
              "      <th>count</th>\n",
              "    </tr>\n",
              "    <tr>\n",
              "      <th>make</th>\n",
              "      <th></th>\n",
              "    </tr>\n",
              "  </thead>\n",
              "  <tbody>\n",
              "    <tr>\n",
              "      <th>Chevrolet</th>\n",
              "      <td>4003</td>\n",
              "    </tr>\n",
              "    <tr>\n",
              "      <th>Ford</th>\n",
              "      <td>3371</td>\n",
              "    </tr>\n",
              "    <tr>\n",
              "      <th>Dodge</th>\n",
              "      <td>2583</td>\n",
              "    </tr>\n",
              "    <tr>\n",
              "      <th>GMC</th>\n",
              "      <td>2494</td>\n",
              "    </tr>\n",
              "    <tr>\n",
              "      <th>Toyota</th>\n",
              "      <td>2071</td>\n",
              "    </tr>\n",
              "    <tr>\n",
              "      <th>...</th>\n",
              "      <td>...</td>\n",
              "    </tr>\n",
              "    <tr>\n",
              "      <th>Volga Associated Automobile</th>\n",
              "      <td>1</td>\n",
              "    </tr>\n",
              "    <tr>\n",
              "      <th>Panos</th>\n",
              "      <td>1</td>\n",
              "    </tr>\n",
              "    <tr>\n",
              "      <th>Mahindra</th>\n",
              "      <td>1</td>\n",
              "    </tr>\n",
              "    <tr>\n",
              "      <th>Excalibur Autos</th>\n",
              "      <td>1</td>\n",
              "    </tr>\n",
              "    <tr>\n",
              "      <th>London Coach Co Inc</th>\n",
              "      <td>1</td>\n",
              "    </tr>\n",
              "  </tbody>\n",
              "</table>\n",
              "<p>136 rows × 1 columns</p>\n",
              "</div><br><label><b>dtype:</b> int64</label>"
            ]
          },
          "metadata": {},
          "execution_count": 12
        }
      ]
    },
    {
      "cell_type": "code",
      "source": [
        "city_mpg"
      ],
      "metadata": {
        "id": "t5g_r6OJJNw0",
        "outputId": "eea5cf5a-8011-4701-8fd1-16367b8019e1",
        "colab": {
          "base_uri": "https://localhost:8080/",
          "height": 458
        }
      },
      "execution_count": 16,
      "outputs": [
        {
          "output_type": "execute_result",
          "data": {
            "text/plain": [
              "0        19\n",
              "1         9\n",
              "2        23\n",
              "3        10\n",
              "4        17\n",
              "         ..\n",
              "41139    19\n",
              "41140    20\n",
              "41141    18\n",
              "41142    18\n",
              "41143    16\n",
              "Name: city08, Length: 41144, dtype: int64"
            ],
            "text/html": [
              "<div>\n",
              "<style scoped>\n",
              "    .dataframe tbody tr th:only-of-type {\n",
              "        vertical-align: middle;\n",
              "    }\n",
              "\n",
              "    .dataframe tbody tr th {\n",
              "        vertical-align: top;\n",
              "    }\n",
              "\n",
              "    .dataframe thead th {\n",
              "        text-align: right;\n",
              "    }\n",
              "</style>\n",
              "<table border=\"1\" class=\"dataframe\">\n",
              "  <thead>\n",
              "    <tr style=\"text-align: right;\">\n",
              "      <th></th>\n",
              "      <th>city08</th>\n",
              "    </tr>\n",
              "  </thead>\n",
              "  <tbody>\n",
              "    <tr>\n",
              "      <th>0</th>\n",
              "      <td>19</td>\n",
              "    </tr>\n",
              "    <tr>\n",
              "      <th>1</th>\n",
              "      <td>9</td>\n",
              "    </tr>\n",
              "    <tr>\n",
              "      <th>2</th>\n",
              "      <td>23</td>\n",
              "    </tr>\n",
              "    <tr>\n",
              "      <th>3</th>\n",
              "      <td>10</td>\n",
              "    </tr>\n",
              "    <tr>\n",
              "      <th>4</th>\n",
              "      <td>17</td>\n",
              "    </tr>\n",
              "    <tr>\n",
              "      <th>...</th>\n",
              "      <td>...</td>\n",
              "    </tr>\n",
              "    <tr>\n",
              "      <th>41139</th>\n",
              "      <td>19</td>\n",
              "    </tr>\n",
              "    <tr>\n",
              "      <th>41140</th>\n",
              "      <td>20</td>\n",
              "    </tr>\n",
              "    <tr>\n",
              "      <th>41141</th>\n",
              "      <td>18</td>\n",
              "    </tr>\n",
              "    <tr>\n",
              "      <th>41142</th>\n",
              "      <td>18</td>\n",
              "    </tr>\n",
              "    <tr>\n",
              "      <th>41143</th>\n",
              "      <td>16</td>\n",
              "    </tr>\n",
              "  </tbody>\n",
              "</table>\n",
              "<p>41144 rows × 1 columns</p>\n",
              "</div><br><label><b>dtype:</b> int64</label>"
            ]
          },
          "metadata": {},
          "execution_count": 16
        }
      ]
    },
    {
      "cell_type": "code",
      "source": [
        "city_mpg.index[:5]"
      ],
      "metadata": {
        "id": "VGmCruScJN1g",
        "outputId": "8f7e6069-74df-4f9c-f72c-c2c3ed32d2ab",
        "colab": {
          "base_uri": "https://localhost:8080/"
        }
      },
      "execution_count": 17,
      "outputs": [
        {
          "output_type": "execute_result",
          "data": {
            "text/plain": [
              "RangeIndex(start=0, stop=5, step=1)"
            ]
          },
          "metadata": {},
          "execution_count": 17
        }
      ]
    },
    {
      "cell_type": "code",
      "source": [
        "def generalize_top5(val):\n",
        "    if val in top5:\n",
        "        return val\n",
        "\n",
        "    return \"Other\""
      ],
      "metadata": {
        "id": "EzmMXesIJN74"
      },
      "execution_count": 18,
      "outputs": []
    },
    {
      "cell_type": "code",
      "source": [
        "make.apply(generalize_top5)"
      ],
      "metadata": {
        "id": "ejxF_6TwJ3GW",
        "outputId": "b4798295-a753-43ef-c425-b598ba52a2b2",
        "colab": {
          "base_uri": "https://localhost:8080/",
          "height": 458
        }
      },
      "execution_count": 20,
      "outputs": [
        {
          "output_type": "execute_result",
          "data": {
            "text/plain": [
              "0        Other\n",
              "1        Other\n",
              "2        Dodge\n",
              "3        Dodge\n",
              "4        Other\n",
              "         ...  \n",
              "41139    Other\n",
              "41140    Other\n",
              "41141    Other\n",
              "41142    Other\n",
              "41143    Other\n",
              "Name: make, Length: 41144, dtype: object"
            ],
            "text/html": [
              "<div>\n",
              "<style scoped>\n",
              "    .dataframe tbody tr th:only-of-type {\n",
              "        vertical-align: middle;\n",
              "    }\n",
              "\n",
              "    .dataframe tbody tr th {\n",
              "        vertical-align: top;\n",
              "    }\n",
              "\n",
              "    .dataframe thead th {\n",
              "        text-align: right;\n",
              "    }\n",
              "</style>\n",
              "<table border=\"1\" class=\"dataframe\">\n",
              "  <thead>\n",
              "    <tr style=\"text-align: right;\">\n",
              "      <th></th>\n",
              "      <th>make</th>\n",
              "    </tr>\n",
              "  </thead>\n",
              "  <tbody>\n",
              "    <tr>\n",
              "      <th>0</th>\n",
              "      <td>Other</td>\n",
              "    </tr>\n",
              "    <tr>\n",
              "      <th>1</th>\n",
              "      <td>Other</td>\n",
              "    </tr>\n",
              "    <tr>\n",
              "      <th>2</th>\n",
              "      <td>Dodge</td>\n",
              "    </tr>\n",
              "    <tr>\n",
              "      <th>3</th>\n",
              "      <td>Dodge</td>\n",
              "    </tr>\n",
              "    <tr>\n",
              "      <th>4</th>\n",
              "      <td>Other</td>\n",
              "    </tr>\n",
              "    <tr>\n",
              "      <th>...</th>\n",
              "      <td>...</td>\n",
              "    </tr>\n",
              "    <tr>\n",
              "      <th>41139</th>\n",
              "      <td>Other</td>\n",
              "    </tr>\n",
              "    <tr>\n",
              "      <th>41140</th>\n",
              "      <td>Other</td>\n",
              "    </tr>\n",
              "    <tr>\n",
              "      <th>41141</th>\n",
              "      <td>Other</td>\n",
              "    </tr>\n",
              "    <tr>\n",
              "      <th>41142</th>\n",
              "      <td>Other</td>\n",
              "    </tr>\n",
              "    <tr>\n",
              "      <th>41143</th>\n",
              "      <td>Other</td>\n",
              "    </tr>\n",
              "  </tbody>\n",
              "</table>\n",
              "<p>41144 rows × 1 columns</p>\n",
              "</div><br><label><b>dtype:</b> object</label>"
            ]
          },
          "metadata": {},
          "execution_count": 20
        }
      ]
    },
    {
      "cell_type": "code",
      "source": [
        "make\n"
      ],
      "metadata": {
        "id": "TP1glYMLJ3Ja",
        "outputId": "5bd5ce97-d92a-44b9-e18f-2a5ac61bb496",
        "colab": {
          "base_uri": "https://localhost:8080/",
          "height": 458
        }
      },
      "execution_count": 21,
      "outputs": [
        {
          "output_type": "execute_result",
          "data": {
            "text/plain": [
              "0        Alfa Romeo\n",
              "1           Ferrari\n",
              "2             Dodge\n",
              "3             Dodge\n",
              "4            Subaru\n",
              "            ...    \n",
              "41139        Subaru\n",
              "41140        Subaru\n",
              "41141        Subaru\n",
              "41142        Subaru\n",
              "41143        Subaru\n",
              "Name: make, Length: 41144, dtype: object"
            ],
            "text/html": [
              "<div>\n",
              "<style scoped>\n",
              "    .dataframe tbody tr th:only-of-type {\n",
              "        vertical-align: middle;\n",
              "    }\n",
              "\n",
              "    .dataframe tbody tr th {\n",
              "        vertical-align: top;\n",
              "    }\n",
              "\n",
              "    .dataframe thead th {\n",
              "        text-align: right;\n",
              "    }\n",
              "</style>\n",
              "<table border=\"1\" class=\"dataframe\">\n",
              "  <thead>\n",
              "    <tr style=\"text-align: right;\">\n",
              "      <th></th>\n",
              "      <th>make</th>\n",
              "    </tr>\n",
              "  </thead>\n",
              "  <tbody>\n",
              "    <tr>\n",
              "      <th>0</th>\n",
              "      <td>Alfa Romeo</td>\n",
              "    </tr>\n",
              "    <tr>\n",
              "      <th>1</th>\n",
              "      <td>Ferrari</td>\n",
              "    </tr>\n",
              "    <tr>\n",
              "      <th>2</th>\n",
              "      <td>Dodge</td>\n",
              "    </tr>\n",
              "    <tr>\n",
              "      <th>3</th>\n",
              "      <td>Dodge</td>\n",
              "    </tr>\n",
              "    <tr>\n",
              "      <th>4</th>\n",
              "      <td>Subaru</td>\n",
              "    </tr>\n",
              "    <tr>\n",
              "      <th>...</th>\n",
              "      <td>...</td>\n",
              "    </tr>\n",
              "    <tr>\n",
              "      <th>41139</th>\n",
              "      <td>Subaru</td>\n",
              "    </tr>\n",
              "    <tr>\n",
              "      <th>41140</th>\n",
              "      <td>Subaru</td>\n",
              "    </tr>\n",
              "    <tr>\n",
              "      <th>41141</th>\n",
              "      <td>Subaru</td>\n",
              "    </tr>\n",
              "    <tr>\n",
              "      <th>41142</th>\n",
              "      <td>Subaru</td>\n",
              "    </tr>\n",
              "    <tr>\n",
              "      <th>41143</th>\n",
              "      <td>Subaru</td>\n",
              "    </tr>\n",
              "  </tbody>\n",
              "</table>\n",
              "<p>41144 rows × 1 columns</p>\n",
              "</div><br><label><b>dtype:</b> object</label>"
            ]
          },
          "metadata": {},
          "execution_count": 21
        }
      ]
    },
    {
      "cell_type": "code",
      "source": [
        "%%timeit\n",
        "make.apply(generalize_top5)"
      ],
      "metadata": {
        "id": "0HOERb-sJ3MD",
        "outputId": "195dc3bd-f1f4-4ec6-80a3-277a3c96e927",
        "colab": {
          "base_uri": "https://localhost:8080/"
        }
      },
      "execution_count": 22,
      "outputs": [
        {
          "output_type": "stream",
          "name": "stdout",
          "text": [
            "43.2 ms ± 1.26 ms per loop (mean ± std. dev. of 7 runs, 10 loops each)\n"
          ]
        }
      ]
    },
    {
      "cell_type": "code",
      "source": [
        "%%timeit\n",
        "make.where(make.isin(top5), other = 'Other')"
      ],
      "metadata": {
        "id": "6KIfZwIaJN-7",
        "outputId": "61119572-5fa4-4cf8-e275-0f66b72a22ff",
        "colab": {
          "base_uri": "https://localhost:8080/"
        }
      },
      "execution_count": 23,
      "outputs": [
        {
          "output_type": "stream",
          "name": "stdout",
          "text": [
            "2.63 ms ± 75.7 µs per loop (mean ± std. dev. of 7 runs, 100 loops each)\n"
          ]
        }
      ]
    },
    {
      "cell_type": "code",
      "source": [
        "%%timeit\n",
        "make.mask(~make.isin(top5), other ='Other')"
      ],
      "metadata": {
        "id": "mqoFCWeLLeWj",
        "outputId": "0fec0a56-b820-4a4f-9f7b-07dc8e68ffaf",
        "colab": {
          "base_uri": "https://localhost:8080/"
        }
      },
      "execution_count": 24,
      "outputs": [
        {
          "output_type": "stream",
          "name": "stdout",
          "text": [
            "2.63 ms ± 69 µs per loop (mean ± std. dev. of 7 runs, 100 loops each)\n"
          ]
        }
      ]
    },
    {
      "cell_type": "code",
      "source": [],
      "metadata": {
        "id": "Zuyi-vubLeZ3"
      },
      "execution_count": null,
      "outputs": []
    },
    {
      "cell_type": "markdown",
      "metadata": {
        "id": "LUU6g1BG8sTJ"
      },
      "source": [
        "- ``.apply`` allows you to apply a function element-wise to every value.\n",
        "- If we pass in a numpy function that works on an array, it will broadcast the operation to the series\n",
        "- However, ``.apply`` is not very efficient because the function is called once for every value. This breaks out of the fast vectorized code paths we can leverage in pandas."
      ]
    },
    {
      "cell_type": "code",
      "execution_count": null,
      "metadata": {
        "id": "IixzEmIy8sTJ"
      },
      "outputs": [],
      "source": [
        "def gt20(val):\n",
        "    return val > 20"
      ]
    },
    {
      "cell_type": "code",
      "execution_count": null,
      "metadata": {
        "id": "RZWC91KM8sTK",
        "outputId": "a8d9a0ef-e4f9-42de-db15-c129cb60b8b9"
      },
      "outputs": [
        {
          "name": "stdout",
          "output_type": "stream",
          "text": [
            "4.59 ms ± 39.7 µs per loop (mean ± std. dev. of 7 runs, 100 loops each)\n"
          ]
        }
      ],
      "source": [
        "%%timeit\n",
        "# using apply function\n",
        "city_mpg.apply(gt20)"
      ]
    },
    {
      "cell_type": "code",
      "execution_count": null,
      "metadata": {
        "id": "3_WjaN1H8sTK",
        "outputId": "3c9f1d3c-d4e6-49c5-a09d-7bc5106161fe"
      },
      "outputs": [
        {
          "name": "stdout",
          "output_type": "stream",
          "text": [
            "78.1 µs ± 166 ns per loop (mean ± std. dev. of 7 runs, 10,000 loops each)\n"
          ]
        }
      ],
      "source": [
        "%%timeit\n",
        "# using broadcasting .gt method\n",
        "city_mpg.gt(20)"
      ]
    },
    {
      "cell_type": "code",
      "execution_count": null,
      "metadata": {
        "id": "2yJEAUtI8sTK"
      },
      "outputs": [],
      "source": [
        "make = df.make"
      ]
    },
    {
      "cell_type": "code",
      "execution_count": null,
      "metadata": {
        "id": "e0MJdb_T8sTM",
        "outputId": "5507e9b0-97eb-40c1-b283-973b9ab0d390"
      },
      "outputs": [
        {
          "data": {
            "text/plain": [
              "Chevrolet                      4003\n",
              "Ford                           3371\n",
              "Dodge                          2583\n",
              "GMC                            2494\n",
              "Toyota                         2071\n",
              "                               ... \n",
              "Volga Associated Automobile       1\n",
              "Panos                             1\n",
              "Mahindra                          1\n",
              "Excalibur Autos                   1\n",
              "London Coach Co Inc               1\n",
              "Name: make, Length: 136, dtype: int64"
            ]
          },
          "execution_count": 19,
          "metadata": {},
          "output_type": "execute_result"
        }
      ],
      "source": [
        "make.value_counts()"
      ]
    },
    {
      "cell_type": "markdown",
      "metadata": {
        "id": "yjk18a8N8sTM"
      },
      "source": [
        "- In the example  below, the function ``generalize_top5`` is being called once for every value\n",
        "- A faster way is using the ``.where`` method.\n",
        "- ``.where`` method keeps values where the index is True and uses the \"other\" parameter to specify values for False"
      ]
    },
    {
      "cell_type": "code",
      "execution_count": null,
      "metadata": {
        "id": "L93FLJ2n8sTN"
      },
      "outputs": [],
      "source": [
        "# keep the first five entries in the index and replace everything else with other\n",
        "top5 = make.value_counts().index[:5]"
      ]
    },
    {
      "cell_type": "code",
      "execution_count": null,
      "metadata": {
        "id": "UL1bxusU8sTN"
      },
      "outputs": [],
      "source": [
        "def generalize_top5(val):\n",
        "    if val in top5:\n",
        "        return val\n",
        "    return \"Other\""
      ]
    },
    {
      "cell_type": "code",
      "execution_count": null,
      "metadata": {
        "id": "4_XMe4nI8sTN",
        "outputId": "112618c7-592e-4103-d02c-b1ef0f0e2e40"
      },
      "outputs": [
        {
          "name": "stdout",
          "output_type": "stream",
          "text": [
            "5.74 ms ± 23.4 µs per loop (mean ± std. dev. of 7 runs, 100 loops each)\n"
          ]
        }
      ],
      "source": [
        "%%timeit\n",
        "# slow\n",
        "make.apply(generalize_top5)"
      ]
    },
    {
      "cell_type": "code",
      "execution_count": null,
      "metadata": {
        "id": "soSl-FEm8sTN",
        "outputId": "537cddca-8992-4b03-d0a0-060e10e41171"
      },
      "outputs": [
        {
          "name": "stdout",
          "output_type": "stream",
          "text": [
            "1.8 ms ± 7.85 µs per loop (mean ± std. dev. of 7 runs, 1,000 loops each)\n"
          ]
        }
      ],
      "source": [
        "%%timeit\n",
        "# better\n",
        "make.where(make.isin(top5), other='Other')"
      ]
    },
    {
      "cell_type": "markdown",
      "metadata": {
        "id": "9XzvZGBp8sTO"
      },
      "source": [
        "- ``.mask`` is the complement of .where method.\n",
        "- Wherever the condition is False, it keeps the original values. If it is True, it replaces the value with other parameter."
      ]
    },
    {
      "cell_type": "code",
      "execution_count": null,
      "metadata": {
        "id": "6qaG7H-W8sTO",
        "outputId": "ebd49202-80ed-4e66-b92e-1ab32b2114a7"
      },
      "outputs": [
        {
          "data": {
            "text/plain": [
              "0        Other\n",
              "1        Other\n",
              "2        Dodge\n",
              "3        Dodge\n",
              "4        Other\n",
              "         ...  \n",
              "41139    Other\n",
              "41140    Other\n",
              "41141    Other\n",
              "41142    Other\n",
              "41143    Other\n",
              "Name: make, Length: 41144, dtype: object"
            ]
          },
          "execution_count": 28,
          "metadata": {},
          "output_type": "execute_result"
        }
      ],
      "source": [
        "make.mask(~make.isin(top5), other='Other')"
      ]
    },
    {
      "cell_type": "markdown",
      "metadata": {
        "id": "nxlC0yHd8sTO"
      },
      "source": [
        "## 9.2 If Else and .select"
      ]
    },
    {
      "cell_type": "code",
      "execution_count": null,
      "metadata": {
        "id": "fl9BQbMe8sTO"
      },
      "outputs": [],
      "source": [
        "vc = make.value_counts()\n",
        "top5 = vc.index[:5]\n",
        "top10 = vc.index[:10]"
      ]
    },
    {
      "cell_type": "code",
      "execution_count": null,
      "metadata": {
        "id": "mGRD_WMF8sTO"
      },
      "outputs": [],
      "source": [
        "def generalize(val):\n",
        "    if val in top5:\n",
        "        return val\n",
        "    elif val in top10:\n",
        "        return 'Top10'\n",
        "    else:\n",
        "        return 'Other'"
      ]
    },
    {
      "cell_type": "code",
      "execution_count": null,
      "metadata": {
        "id": "-J5-duHT8sTO",
        "outputId": "dc58d5b4-ef6b-4ca2-d600-15d09c8565e5"
      },
      "outputs": [
        {
          "data": {
            "text/plain": [
              "0        Other\n",
              "1        Other\n",
              "2        Dodge\n",
              "3        Dodge\n",
              "4        Other\n",
              "         ...  \n",
              "41139    Other\n",
              "41140    Other\n",
              "41141    Other\n",
              "41142    Other\n",
              "41143    Other\n",
              "Name: make, Length: 41144, dtype: object"
            ]
          },
          "execution_count": 31,
          "metadata": {},
          "output_type": "execute_result"
        }
      ],
      "source": [
        "make.apply(generalize)"
      ]
    },
    {
      "cell_type": "code",
      "execution_count": null,
      "metadata": {
        "id": "JGJIGPC88sTO",
        "outputId": "279771a1-0583-4b69-8ac1-510ff8433edd"
      },
      "outputs": [
        {
          "data": {
            "text/plain": [
              "0        Other\n",
              "1        Other\n",
              "2        Dodge\n",
              "3        Dodge\n",
              "4        Other\n",
              "         ...  \n",
              "41139    Other\n",
              "41140    Other\n",
              "41141    Other\n",
              "41142    Other\n",
              "41143    Other\n",
              "Name: make, Length: 41144, dtype: object"
            ]
          },
          "execution_count": 34,
          "metadata": {},
          "output_type": "execute_result"
        }
      ],
      "source": [
        "(make\n",
        ".where(make.isin(top5), 'Top10')\n",
        ".where(make.isin(top10), 'Other'))"
      ]
    },
    {
      "cell_type": "markdown",
      "metadata": {
        "id": "nvHt04lC8sTP"
      },
      "source": [
        "- The interface takes a list of boolean arrays and a list with corresponding replacement values"
      ]
    },
    {
      "cell_type": "code",
      "execution_count": null,
      "metadata": {
        "id": "mK75LgIP8sTP",
        "outputId": "32253cd1-7202-480f-f3ab-58705fd66212"
      },
      "outputs": [
        {
          "data": {
            "text/plain": [
              "0        Other\n",
              "1        Other\n",
              "2        Dodge\n",
              "3        Dodge\n",
              "4        Other\n",
              "         ...  \n",
              "41139    Other\n",
              "41140    Other\n",
              "41141    Other\n",
              "41142    Other\n",
              "41143    Other\n",
              "Length: 41144, dtype: object"
            ]
          },
          "execution_count": 36,
          "metadata": {},
          "output_type": "execute_result"
        }
      ],
      "source": [
        "pd.Series(np.select([make.isin(top5), make.isin(top10)], [make, 'Top10'], 'Other'))"
      ]
    },
    {
      "cell_type": "markdown",
      "metadata": {
        "id": "QL-IsB1c8sTP"
      },
      "source": [
        "## 9.3 Missing Data"
      ]
    },
    {
      "cell_type": "code",
      "execution_count": null,
      "metadata": {
        "id": "pQqYybss8sTQ"
      },
      "outputs": [],
      "source": [
        "cyl = df.cylinders"
      ]
    },
    {
      "cell_type": "code",
      "execution_count": null,
      "metadata": {
        "id": "Oi5gM66B8sTQ",
        "outputId": "3c2c66e2-3519-406e-b2f7-14af66df5793"
      },
      "outputs": [
        {
          "data": {
            "text/plain": [
              "206"
            ]
          },
          "execution_count": 39,
          "metadata": {},
          "output_type": "execute_result"
        }
      ],
      "source": [
        "(cyl\n",
        ".isna()\n",
        ".sum())"
      ]
    },
    {
      "cell_type": "markdown",
      "metadata": {
        "id": "MoMKi5up8sTQ"
      },
      "source": [
        "- Hard to determine why these values are missing from just the ``cylinders`` series alone\n",
        "- We use the ``make`` column to give us some insight"
      ]
    },
    {
      "cell_type": "code",
      "execution_count": null,
      "metadata": {
        "id": "5HDGrvnw8sTQ",
        "outputId": "bc86fd6a-f4f4-4349-b62a-0cdaeb3f91c6"
      },
      "outputs": [
        {
          "data": {
            "text/plain": [
              "7138     Nissan\n",
              "7139     Toyota\n",
              "8143     Toyota\n",
              "8144       Ford\n",
              "8146       Ford\n",
              "          ...  \n",
              "34563     Tesla\n",
              "34564     Tesla\n",
              "34565     Tesla\n",
              "34566     Tesla\n",
              "34567     Tesla\n",
              "Name: make, Length: 206, dtype: object"
            ]
          },
          "execution_count": 42,
          "metadata": {},
          "output_type": "execute_result"
        }
      ],
      "source": [
        "missing = cyl.isna()\n",
        "make.loc[missing]"
      ]
    },
    {
      "cell_type": "markdown",
      "metadata": {
        "id": "NC_x8s1x8sTQ"
      },
      "source": [
        "## 9.4 Filling in Missing Data"
      ]
    },
    {
      "cell_type": "markdown",
      "metadata": {
        "id": "ocyO0plJ8sTQ"
      },
      "source": [
        "- The ``.fillna`` method allows us to specify a replacement value for any missing data\n",
        "- ``.dropna``\n",
        "- ``.ffill``\n",
        "- ``.interpolate()``"
      ]
    },
    {
      "cell_type": "code",
      "execution_count": null,
      "metadata": {
        "id": "ZO4aYnff8sTQ",
        "outputId": "ebf02cae-ab0f-4770-be94-2123c5c2d12b"
      },
      "outputs": [
        {
          "data": {
            "text/plain": [
              "7138    NaN\n",
              "7139    NaN\n",
              "8143    NaN\n",
              "8144    NaN\n",
              "8146    NaN\n",
              "         ..\n",
              "34563   NaN\n",
              "34564   NaN\n",
              "34565   NaN\n",
              "34566   NaN\n",
              "34567   NaN\n",
              "Name: cylinders, Length: 206, dtype: float64"
            ]
          },
          "execution_count": 43,
          "metadata": {},
          "output_type": "execute_result"
        }
      ],
      "source": [
        "cyl[cyl.isna()]"
      ]
    },
    {
      "cell_type": "code",
      "execution_count": null,
      "metadata": {
        "id": "pxi9Ah1s8sTR",
        "outputId": "68e0e8b5-2635-448c-fd35-ea139c88731f"
      },
      "outputs": [
        {
          "data": {
            "text/plain": [
              "7136    6.0\n",
              "7137    6.0\n",
              "7138    0.0\n",
              "7139    0.0\n",
              "7140    6.0\n",
              "7141    6.0\n",
              "Name: cylinders, dtype: float64"
            ]
          },
          "execution_count": 44,
          "metadata": {},
          "output_type": "execute_result"
        }
      ],
      "source": [
        "# fillna method\n",
        "cyl.fillna(0).loc[7136:7141]"
      ]
    },
    {
      "cell_type": "markdown",
      "metadata": {
        "id": "S7N-mlh58sTR"
      },
      "source": [
        "## 9.5 Interpolating Data"
      ]
    },
    {
      "cell_type": "markdown",
      "metadata": {
        "id": "YBwMVaLv8sTR"
      },
      "source": [
        "- Another option for replacing missing data ``.interpolate`` method\n",
        "- Handy if data is ordered (i.e time series) and there are holes in the data\n",
        "- In the example below, index label 2 was missing. We use the index label 1 and index label 3 to infer index label 2"
      ]
    },
    {
      "cell_type": "code",
      "execution_count": null,
      "metadata": {
        "id": "GKUcofHB8sTS",
        "outputId": "97450574-f6ef-49ee-8019-90fb193f322b"
      },
      "outputs": [
        {
          "data": {
            "text/plain": [
              "0    32.0\n",
              "1    40.0\n",
              "2     NaN\n",
              "3    42.0\n",
              "4    39.0\n",
              "5    32.0\n",
              "dtype: float64"
            ]
          },
          "execution_count": 45,
          "metadata": {},
          "output_type": "execute_result"
        }
      ],
      "source": [
        "temp = pd.Series([32, 40, None, 42, 39,32])\n",
        "temp"
      ]
    },
    {
      "cell_type": "code",
      "execution_count": null,
      "metadata": {
        "id": "yB1bR0e58sTS",
        "outputId": "5e9a506f-0f26-455d-85e7-ef22614e2336"
      },
      "outputs": [
        {
          "data": {
            "text/plain": [
              "0    32.0\n",
              "1    40.0\n",
              "2    41.0\n",
              "3    42.0\n",
              "4    39.0\n",
              "5    32.0\n",
              "dtype: float64"
            ]
          },
          "execution_count": 46,
          "metadata": {},
          "output_type": "execute_result"
        }
      ],
      "source": [
        "temp.interpolate()"
      ]
    },
    {
      "cell_type": "markdown",
      "metadata": {
        "id": "OQyi05vm8sTS"
      },
      "source": [
        "## 9.6 Clipping Data"
      ]
    },
    {
      "cell_type": "markdown",
      "metadata": {
        "id": "1bk-rMiL8sTS"
      },
      "source": [
        "- If we have outliers in our data, we want to use the ``.clip`` method\n",
        "- We can trim the values to be between 5th and 95th quantile"
      ]
    },
    {
      "cell_type": "code",
      "execution_count": null,
      "metadata": {
        "id": "Rug2Gq0d8sTS",
        "outputId": "c483abd9-566e-46e6-8a2c-d4fcd29a0b47"
      },
      "outputs": [
        {
          "data": {
            "text/plain": [
              "0      19\n",
              "1       9\n",
              "2      23\n",
              "3      10\n",
              "4      17\n",
              "       ..\n",
              "442    15\n",
              "443    15\n",
              "444    15\n",
              "445    15\n",
              "446    31\n",
              "Name: city08, Length: 447, dtype: int64"
            ]
          },
          "execution_count": 47,
          "metadata": {},
          "output_type": "execute_result"
        }
      ],
      "source": [
        "city_mpg.loc[:446]"
      ]
    },
    {
      "cell_type": "code",
      "execution_count": null,
      "metadata": {
        "id": "A7YDS0VQ8sTT",
        "outputId": "7694d212-3af2-4f61-9779-e3aaa5d16d29"
      },
      "outputs": [
        {
          "data": {
            "text/plain": [
              "0      19\n",
              "1      11\n",
              "2      23\n",
              "3      11\n",
              "4      17\n",
              "       ..\n",
              "442    15\n",
              "443    15\n",
              "444    15\n",
              "445    15\n",
              "446    27\n",
              "Name: city08, Length: 447, dtype: int64"
            ]
          },
          "execution_count": 48,
          "metadata": {},
          "output_type": "execute_result"
        }
      ],
      "source": [
        "# trim values between 5th and 95th quantile\n",
        "(city_mpg\n",
        ".loc[:446]\n",
        ".clip(lower=city_mpg.quantile(0.05),\n",
        "      upper=city_mpg.quantile(0.95)))"
      ]
    },
    {
      "cell_type": "markdown",
      "metadata": {
        "id": "1ryan5IS8sTT"
      },
      "source": [
        "## 9.7 Sorting Values"
      ]
    },
    {
      "cell_type": "code",
      "execution_count": null,
      "metadata": {
        "id": "pOBMkOol8sTT",
        "outputId": "fbcabc6e-c38d-41d2-8e36-e7bcb47889fa"
      },
      "outputs": [
        {
          "data": {
            "text/plain": [
              "7901       6\n",
              "34557      6\n",
              "37161      6\n",
              "21060      6\n",
              "35887      6\n",
              "        ... \n",
              "34563    138\n",
              "34564    140\n",
              "32599    150\n",
              "31256    150\n",
              "33423    150\n",
              "Name: city08, Length: 41144, dtype: int64"
            ]
          },
          "execution_count": 49,
          "metadata": {},
          "output_type": "execute_result"
        }
      ],
      "source": [
        "city_mpg.sort_values()"
      ]
    },
    {
      "cell_type": "code",
      "execution_count": null,
      "metadata": {
        "id": "p33DyNzw8sTT",
        "outputId": "c2a47d28-b714-412a-ff77-d6905e5c01e3"
      },
      "outputs": [
        {
          "data": {
            "text/plain": [
              "0        22.0\n",
              "1        11.5\n",
              "2        28.0\n",
              "3        11.0\n",
              "4        20.0\n",
              "         ... \n",
              "41139    22.5\n",
              "41140    24.0\n",
              "41141    21.0\n",
              "41142    21.0\n",
              "41143    18.5\n",
              "Length: 41144, dtype: float64"
            ]
          },
          "execution_count": 50,
          "metadata": {},
          "output_type": "execute_result"
        }
      ],
      "source": [
        "(city_mpg.sort_values() + highway_mpg) / 2"
      ]
    },
    {
      "cell_type": "markdown",
      "metadata": {
        "id": "9UDa8ZwS8sTT"
      },
      "source": [
        "## 9.8 Sorting the Index"
      ]
    },
    {
      "cell_type": "code",
      "execution_count": null,
      "metadata": {
        "id": "Ds5y86DY8sTU",
        "outputId": "776748e6-fa10-4138-f694-c0276549556e"
      },
      "outputs": [
        {
          "data": {
            "text/plain": [
              "0        19\n",
              "1         9\n",
              "2        23\n",
              "3        10\n",
              "4        17\n",
              "         ..\n",
              "41139    19\n",
              "41140    20\n",
              "41141    18\n",
              "41142    18\n",
              "41143    16\n",
              "Name: city08, Length: 41144, dtype: int64"
            ]
          },
          "execution_count": 51,
          "metadata": {},
          "output_type": "execute_result"
        }
      ],
      "source": [
        "city_mpg.sort_values().sort_index()"
      ]
    },
    {
      "cell_type": "markdown",
      "metadata": {
        "id": "UR3IWOrB8sTU"
      },
      "source": [
        "## 9.9 Dropping Duplicates"
      ]
    },
    {
      "cell_type": "markdown",
      "metadata": {
        "id": "iQ3686YL8sTU"
      },
      "source": [
        "- ``.drop_duplicates`` method will remove values that appear more than once\n",
        "- We can determine whether to keep the first or last duplicate value found using the ``keep`` parameter\n",
        "- Default value is *'first'*\n",
        "- Setting it to *'last'*  will use the last value\n",
        "- If we set to *'False'*, it will remove any duplicated values"
      ]
    },
    {
      "cell_type": "code",
      "execution_count": null,
      "metadata": {
        "id": "7F8G9slV8sTU",
        "outputId": "1f243335-1577-45f4-e3ab-cea92e4ffee2"
      },
      "outputs": [
        {
          "data": {
            "text/plain": [
              "0         19\n",
              "1          9\n",
              "2         23\n",
              "3         10\n",
              "4         17\n",
              "        ... \n",
              "34364    127\n",
              "34409    114\n",
              "34564    140\n",
              "34565    115\n",
              "34566    104\n",
              "Name: city08, Length: 105, dtype: int64"
            ]
          },
          "execution_count": 52,
          "metadata": {},
          "output_type": "execute_result"
        }
      ],
      "source": [
        "city_mpg.drop_duplicates()"
      ]
    },
    {
      "cell_type": "markdown",
      "metadata": {
        "id": "z-MVwUiF8sTU"
      },
      "source": [
        "## 9.10 Ranking Data"
      ]
    },
    {
      "cell_type": "markdown",
      "metadata": {
        "id": "yxDXS1pr8sTU"
      },
      "source": [
        "https://dataindependent.com/pandas/pandas-rank-rank-your-data-pd-df-rank/"
      ]
    },
    {
      "cell_type": "markdown",
      "metadata": {
        "id": "MnC9GYCd8sTV"
      },
      "source": [
        "- The rank() function is used to compute numerical data ranks (1 through n) along axis. By default, equal values are assigned a rank that is the average of the ranks of those values\n",
        "- ``.rank`` method will return a series that keeps the original index but uses the ranks of values from the original series\n",
        "- Control how ranking occurs with the ``method`` parameter\n",
        "- By default, if two values are the same, their rank will be the average of the positions they take.\n",
        "- Specify ``min`` to put equal values in the same rank\n",
        "- Specify ``dense`` to not skip any positions"
      ]
    },
    {
      "cell_type": "code",
      "execution_count": null,
      "metadata": {
        "id": "ORMcffCl8sTV",
        "outputId": "5ea00740-1af9-41fb-8886-9bb9d6396ad5"
      },
      "outputs": [
        {
          "data": {
            "text/plain": [
              "0        19\n",
              "1         9\n",
              "2        23\n",
              "3        10\n",
              "4        17\n",
              "         ..\n",
              "41139    19\n",
              "41140    20\n",
              "41141    18\n",
              "41142    18\n",
              "41143    16\n",
              "Name: city08, Length: 41144, dtype: int64"
            ]
          },
          "execution_count": 54,
          "metadata": {},
          "output_type": "execute_result"
        }
      ],
      "source": [
        "city_mpg"
      ]
    },
    {
      "cell_type": "code",
      "execution_count": null,
      "metadata": {
        "id": "i1PVBdmF8sTV",
        "outputId": "632dee16-cfa2-44ff-d45c-0dcb98d1c8cb"
      },
      "outputs": [
        {
          "data": {
            "text/plain": [
              "0        27060.5\n",
              "1          235.5\n",
              "2        35830.0\n",
              "3          607.5\n",
              "4        19484.0\n",
              "          ...   \n",
              "41139    27060.5\n",
              "41140    29719.5\n",
              "41141    23528.0\n",
              "41142    23528.0\n",
              "41143    15479.0\n",
              "Name: city08, Length: 41144, dtype: float64"
            ]
          },
          "execution_count": 53,
          "metadata": {},
          "output_type": "execute_result"
        }
      ],
      "source": [
        "city_mpg.rank()"
      ]
    },
    {
      "cell_type": "code",
      "execution_count": null,
      "metadata": {
        "id": "izWM6Re18sTV",
        "outputId": "6e0fa58b-7087-4dcc-d9f2-366a50f0e336"
      },
      "outputs": [
        {
          "data": {
            "text/plain": [
              "0        25555.0\n",
              "1          136.0\n",
              "2        35119.0\n",
              "3          336.0\n",
              "4        17467.0\n",
              "          ...   \n",
              "41139    25555.0\n",
              "41140    28567.0\n",
              "41141    21502.0\n",
              "41142    21502.0\n",
              "41143    13492.0\n",
              "Name: city08, Length: 41144, dtype: float64"
            ]
          },
          "execution_count": 55,
          "metadata": {},
          "output_type": "execute_result"
        }
      ],
      "source": [
        "city_mpg.rank(method='min')"
      ]
    },
    {
      "cell_type": "markdown",
      "metadata": {
        "id": "0uVWus7M8sTV"
      },
      "source": [
        "## 9.11 Replacing Data"
      ]
    },
    {
      "cell_type": "markdown",
      "metadata": {
        "id": "K-PI7oYk8sTV"
      },
      "source": [
        "- The ``to_replace`` parameter's value can contain a regular expression if you provide ``regex=True`` parameter"
      ]
    },
    {
      "cell_type": "code",
      "execution_count": null,
      "metadata": {
        "id": "SH-ZN1Ux8sTV",
        "outputId": "c2a7ec32-e5e1-4955-c21f-ee85669b9a67"
      },
      "outputs": [
        {
          "data": {
            "text/plain": [
              "0        Alfa Romeo\n",
              "1           Ferrari\n",
              "2             Dodge\n",
              "3             Dodge\n",
              "4               Sub\n",
              "            ...    \n",
              "41139           Sub\n",
              "41140           Sub\n",
              "41141           Sub\n",
              "41142           Sub\n",
              "41143           Sub\n",
              "Name: make, Length: 41144, dtype: object"
            ]
          },
          "execution_count": 56,
          "metadata": {},
          "output_type": "execute_result"
        }
      ],
      "source": [
        "make.replace('Subaru', \"Sub\")"
      ]
    },
    {
      "cell_type": "code",
      "execution_count": null,
      "metadata": {
        "id": "vwAoggSz8sTW",
        "outputId": "3ecf9136-18dc-4307-e33d-948530cbd550"
      },
      "outputs": [
        {
          "data": {
            "text/plain": [
              "0          Alfa Romeo\n",
              "1        ri-other-Fer\n",
              "2               Dodge\n",
              "3               Dodge\n",
              "4              Subaru\n",
              "             ...     \n",
              "41139          Subaru\n",
              "41140          Subaru\n",
              "41141          Subaru\n",
              "41142          Subaru\n",
              "41143          Subaru\n",
              "Name: make, Length: 41144, dtype: object"
            ]
          },
          "execution_count": 57,
          "metadata": {},
          "output_type": "execute_result"
        }
      ],
      "source": [
        "make.replace(r'(Fer)ra(r.*)',\n",
        "        value=r'\\2-other-\\1', regex=True)\n"
      ]
    },
    {
      "cell_type": "code",
      "execution_count": null,
      "metadata": {
        "id": "hAjCG5kp8sTW",
        "outputId": "b4e6fd37-5d08-48d4-ab76-3b570b29a11f"
      },
      "outputs": [
        {
          "data": {
            "text/plain": [
              "0    40\n",
              "1    20\n",
              "2    30\n",
              "3    20\n",
              "4    10\n",
              "dtype: int64"
            ]
          },
          "execution_count": 59,
          "metadata": {},
          "output_type": "execute_result"
        }
      ],
      "source": [
        "# example 1\n",
        "s = pd.Series([40, 20, 30, 20, 10])\n",
        "s"
      ]
    },
    {
      "cell_type": "code",
      "execution_count": null,
      "metadata": {
        "id": "M1OfGsYw8sTW",
        "outputId": "d1b8b850-0bd0-4c9c-fc3f-ee60d6de99a2"
      },
      "outputs": [
        {
          "data": {
            "text/plain": [
              "0    42.0\n",
              "1    20.0\n",
              "2    30.0\n",
              "3    20.0\n",
              "4     9.8\n",
              "dtype: float64"
            ]
          },
          "execution_count": 60,
          "metadata": {},
          "output_type": "execute_result"
        }
      ],
      "source": [
        "s.replace(to_replace=[40, 10], value=[42, 9.8])"
      ]
    },
    {
      "cell_type": "code",
      "execution_count": null,
      "metadata": {
        "id": "JKgFSYFD8sTW",
        "outputId": "e08b1f9c-5c97-4186-d343-e6fd883c0ee5"
      },
      "outputs": [
        {
          "data": {
            "text/plain": [
              "0    42.0\n",
              "1    20.0\n",
              "2    30.0\n",
              "3    20.0\n",
              "4     9.8\n",
              "dtype: float64"
            ]
          },
          "execution_count": 61,
          "metadata": {},
          "output_type": "execute_result"
        }
      ],
      "source": [
        "s.replace(to_replace={40: 42,\n",
        "                      10: 9.8})"
      ]
    },
    {
      "cell_type": "code",
      "execution_count": null,
      "metadata": {
        "id": "RBKQlWR18sTX"
      },
      "outputs": [],
      "source": [
        "# example 2\n",
        "s = pd.Series([\"Dave\", \"Suzy\", \"Adam\", \"Livz\"])"
      ]
    },
    {
      "cell_type": "code",
      "execution_count": null,
      "metadata": {
        "id": "CzlcJItl8sTX",
        "outputId": "fc9d1c02-11bb-4a63-e6e7-408ad4f64527"
      },
      "outputs": [
        {
          "data": {
            "text/plain": [
              "0       Dave\n",
              "1    Suzanne\n",
              "2       Adam\n",
              "3       Livz\n",
              "dtype: object"
            ]
          },
          "execution_count": 68,
          "metadata": {},
          "output_type": "execute_result"
        }
      ],
      "source": [
        "s.replace(to_replace=\"Suzy\", value=\"Suzanne\")"
      ]
    },
    {
      "cell_type": "code",
      "execution_count": null,
      "metadata": {
        "id": "NfSpdM158sTX",
        "outputId": "60f773c6-f869-4372-9b98-5f627dcd9633"
      },
      "outputs": [
        {
          "data": {
            "text/plain": [
              "0       Dave\n",
              "1    Suzanne\n",
              "2       Adam\n",
              "3       Livz\n",
              "dtype: object"
            ]
          },
          "execution_count": 69,
          "metadata": {},
          "output_type": "execute_result"
        }
      ],
      "source": [
        "s.replace(to_replace={'Suzy': 'Suzanne'})"
      ]
    },
    {
      "cell_type": "code",
      "execution_count": null,
      "metadata": {
        "id": "7qRBydAo8sTX",
        "outputId": "d1f037df-3bbf-4bd1-ac37-dde747046bfb"
      },
      "outputs": [
        {
          "data": {
            "text/plain": [
              "0        Dave\n",
              "1     Suzanne\n",
              "2        Adam\n",
              "3    Livzanne\n",
              "dtype: object"
            ]
          },
          "execution_count": 70,
          "metadata": {},
          "output_type": "execute_result"
        }
      ],
      "source": [
        "s.replace(to_replace='z.*', value='zanne', regex=True)"
      ]
    },
    {
      "cell_type": "markdown",
      "metadata": {
        "id": "BbuCd-tU8sTY"
      },
      "source": [
        "## 9.12 Binning Data"
      ]
    },
    {
      "cell_type": "markdown",
      "metadata": {
        "id": "81s1ChYT8sTY"
      },
      "source": [
        "- Create bins of equal width"
      ]
    },
    {
      "cell_type": "code",
      "execution_count": null,
      "metadata": {
        "id": "9LfJKYh68sTY",
        "outputId": "560d422c-90a5-4cdd-e36e-bd0051fb6bdc"
      },
      "outputs": [
        {
          "data": {
            "text/plain": [
              "0        (5.856, 20.4]\n",
              "1        (5.856, 20.4]\n",
              "2         (20.4, 34.8]\n",
              "3        (5.856, 20.4]\n",
              "4        (5.856, 20.4]\n",
              "             ...      \n",
              "41139    (5.856, 20.4]\n",
              "41140    (5.856, 20.4]\n",
              "41141    (5.856, 20.4]\n",
              "41142    (5.856, 20.4]\n",
              "41143    (5.856, 20.4]\n",
              "Name: city08, Length: 41144, dtype: category\n",
              "Categories (10, interval[float64, right]): [(5.856, 20.4] < (20.4, 34.8] < (34.8, 49.2] < (49.2, 63.6] ... (92.4, 106.8] < (106.8, 121.2] < (121.2, 135.6] < (135.6, 150.0]]"
            ]
          },
          "execution_count": 58,
          "metadata": {},
          "output_type": "execute_result"
        }
      ],
      "source": [
        "pd.cut(city_mpg, 10)"
      ]
    },
    {
      "cell_type": "code",
      "execution_count": null,
      "metadata": {
        "id": "CkwF3Act8sTY",
        "outputId": "1c4913d5-7759-4f6d-9b00-de00b510d3a4"
      },
      "outputs": [
        {
          "data": {
            "text/plain": [
              "0        (10, 20]\n",
              "1         (0, 10]\n",
              "2        (20, 40]\n",
              "3         (0, 10]\n",
              "4        (10, 20]\n",
              "           ...   \n",
              "41139    (10, 20]\n",
              "41140    (10, 20]\n",
              "41141    (10, 20]\n",
              "41142    (10, 20]\n",
              "41143    (10, 20]\n",
              "Name: city08, Length: 41144, dtype: category\n",
              "Categories (5, interval[int64, right]): [(0, 10] < (10, 20] < (20, 40] < (40, 70] < (70, 150]]"
            ]
          },
          "execution_count": 71,
          "metadata": {},
          "output_type": "execute_result"
        }
      ],
      "source": [
        "# specific sizes for bin edges\n",
        "pd.cut(city_mpg, [0, 10, 20, 40, 70, 150])"
      ]
    },
    {
      "cell_type": "markdown",
      "metadata": {
        "id": "DWqsYx1N8sTY"
      },
      "source": [
        "- Bins do not start with start value but do include the end value.\n",
        "- We can bin data with quantiles instead\n",
        "- If we want 10 bins that had approximately the same number of entires in each bin (rather than each bin width being same), we can use ``qcut``"
      ]
    },
    {
      "cell_type": "code",
      "execution_count": null,
      "metadata": {
        "id": "kFlXoiDV8sTY",
        "outputId": "ba8a7dc3-338d-41bd-81cf-f3d42898c0cf"
      },
      "outputs": [
        {
          "data": {
            "text/plain": [
              "0         (18.0, 20.0]\n",
              "1        (5.999, 13.0]\n",
              "2         (21.0, 24.0]\n",
              "3        (5.999, 13.0]\n",
              "4         (16.0, 17.0]\n",
              "             ...      \n",
              "41139     (18.0, 20.0]\n",
              "41140     (18.0, 20.0]\n",
              "41141     (17.0, 18.0]\n",
              "41142     (17.0, 18.0]\n",
              "41143     (15.0, 16.0]\n",
              "Name: city08, Length: 41144, dtype: category\n",
              "Categories (10, interval[float64, right]): [(5.999, 13.0] < (13.0, 14.0] < (14.0, 15.0] < (15.0, 16.0] ... (18.0, 20.0] < (20.0, 21.0] < (21.0, 24.0] < (24.0, 150.0]]"
            ]
          },
          "execution_count": 74,
          "metadata": {},
          "output_type": "execute_result"
        }
      ],
      "source": [
        "pd.qcut(city_mpg, 10)"
      ]
    },
    {
      "cell_type": "code",
      "execution_count": null,
      "metadata": {
        "id": "_WUgWN_A8sTZ",
        "outputId": "72004b88-8859-4c08-f513-21d9fad09de8"
      },
      "outputs": [
        {
          "data": {
            "text/plain": [
              "0        7\n",
              "1        1\n",
              "2        9\n",
              "3        1\n",
              "4        5\n",
              "        ..\n",
              "41139    7\n",
              "41140    7\n",
              "41141    6\n",
              "41142    6\n",
              "41143    4\n",
              "Name: city08, Length: 41144, dtype: category\n",
              "Categories (10, int64): [1 < 2 < 3 < 4 ... 7 < 8 < 9 < 10]"
            ]
          },
          "execution_count": 75,
          "metadata": {},
          "output_type": "execute_result"
        }
      ],
      "source": [
        "pd.qcut(city_mpg, 10, labels=list(range(1,11)))"
      ]
    },
    {
      "cell_type": "code",
      "execution_count": null,
      "metadata": {
        "id": "UOSBwIfW8sTZ"
      },
      "outputs": [],
      "source": []
    }
  ],
  "metadata": {
    "kernelspec": {
      "display_name": "Python 3.10.8 ('effective-pandas')",
      "language": "python",
      "name": "python3"
    },
    "language_info": {
      "codemirror_mode": {
        "name": "ipython",
        "version": 3
      },
      "file_extension": ".py",
      "mimetype": "text/x-python",
      "name": "python",
      "nbconvert_exporter": "python",
      "pygments_lexer": "ipython3",
      "version": "3.10.8"
    },
    "orig_nbformat": 4,
    "vscode": {
      "interpreter": {
        "hash": "916f15ef99c20fa40d55a2f85302b4abf960d09ddbbdff0ce9a6a05a29866fa2"
      }
    },
    "colab": {
      "provenance": []
    }
  },
  "nbformat": 4,
  "nbformat_minor": 0
}