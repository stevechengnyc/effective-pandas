{
  "cells": [
    {
      "cell_type": "markdown",
      "metadata": {
        "id": "oqGM51U-0KRW"
      },
      "source": [
        "# Chapter 9: Manipulation Methods"
      ]
    },
    {
      "cell_type": "code",
      "execution_count": 1,
      "metadata": {
        "id": "b5tlwdEK0KRY",
        "outputId": "3a8c78e9-c124-4747-82b9-873a289a668b",
        "colab": {
          "base_uri": "https://localhost:8080/"
        }
      },
      "outputs": [
        {
          "output_type": "stream",
          "name": "stderr",
          "text": [
            "<ipython-input-1-b973022d81c3>:5: DtypeWarning: Columns (68,70,71,72,73,74,76,79) have mixed types. Specify dtype option on import or set low_memory=False.\n",
            "  df = pd.read_csv(url)\n"
          ]
        }
      ],
      "source": [
        "import pandas as pd\n",
        "import numpy as np\n",
        "\n",
        "url = \"http://github.com/mattharrison/datasets/raw/master/data/vehicles.csv.zip\"\n",
        "df = pd.read_csv(url)\n",
        "city_mpg = df.city08\n",
        "highway_mpg = df.highway08"
      ]
    },
    {
      "cell_type": "code",
      "source": [],
      "metadata": {
        "id": "Anzowh590O49"
      },
      "execution_count": null,
      "outputs": []
    },
    {
      "cell_type": "markdown",
      "source": [
        "Create a series from a numeric column that has the value of 'high' if it is equal to or above\n",
        "the mean and 'low' if it is below the mean using np.select."
      ],
      "metadata": {
        "id": "9YB-1N4E3mYH"
      }
    },
    {
      "cell_type": "code",
      "source": [
        "s= pd.Series([3,5,2,7, 1,9,10, 23, 43, 12])"
      ],
      "metadata": {
        "id": "kVtK7c3S0PBQ"
      },
      "execution_count": 2,
      "outputs": []
    },
    {
      "cell_type": "code",
      "source": [
        "\n",
        "\n",
        "\n",
        "\n"
      ],
      "metadata": {
        "id": "tQCp4vHi0PEW"
      },
      "execution_count": null,
      "outputs": []
    },
    {
      "cell_type": "code",
      "source": [],
      "metadata": {
        "id": "NjTqOOai4phh"
      },
      "execution_count": null,
      "outputs": []
    },
    {
      "cell_type": "code",
      "source": [
        "s.where(s > s.mean(), 'low').where(s <s.mean(), 'high')"
      ],
      "metadata": {
        "id": "uWztG0-a4pqh",
        "outputId": "3773d8d2-a476-47ca-ce72-b5ef9e0ba2b1",
        "colab": {
          "base_uri": "https://localhost:8080/",
          "height": 398
        }
      },
      "execution_count": 3,
      "outputs": [
        {
          "output_type": "execute_result",
          "data": {
            "text/plain": [
              "0     low\n",
              "1     low\n",
              "2     low\n",
              "3     low\n",
              "4     low\n",
              "5     low\n",
              "6     low\n",
              "7    high\n",
              "8    high\n",
              "9    high\n",
              "dtype: object"
            ],
            "text/html": [
              "<div>\n",
              "<style scoped>\n",
              "    .dataframe tbody tr th:only-of-type {\n",
              "        vertical-align: middle;\n",
              "    }\n",
              "\n",
              "    .dataframe tbody tr th {\n",
              "        vertical-align: top;\n",
              "    }\n",
              "\n",
              "    .dataframe thead th {\n",
              "        text-align: right;\n",
              "    }\n",
              "</style>\n",
              "<table border=\"1\" class=\"dataframe\">\n",
              "  <thead>\n",
              "    <tr style=\"text-align: right;\">\n",
              "      <th></th>\n",
              "      <th>0</th>\n",
              "    </tr>\n",
              "  </thead>\n",
              "  <tbody>\n",
              "    <tr>\n",
              "      <th>0</th>\n",
              "      <td>low</td>\n",
              "    </tr>\n",
              "    <tr>\n",
              "      <th>1</th>\n",
              "      <td>low</td>\n",
              "    </tr>\n",
              "    <tr>\n",
              "      <th>2</th>\n",
              "      <td>low</td>\n",
              "    </tr>\n",
              "    <tr>\n",
              "      <th>3</th>\n",
              "      <td>low</td>\n",
              "    </tr>\n",
              "    <tr>\n",
              "      <th>4</th>\n",
              "      <td>low</td>\n",
              "    </tr>\n",
              "    <tr>\n",
              "      <th>5</th>\n",
              "      <td>low</td>\n",
              "    </tr>\n",
              "    <tr>\n",
              "      <th>6</th>\n",
              "      <td>low</td>\n",
              "    </tr>\n",
              "    <tr>\n",
              "      <th>7</th>\n",
              "      <td>high</td>\n",
              "    </tr>\n",
              "    <tr>\n",
              "      <th>8</th>\n",
              "      <td>high</td>\n",
              "    </tr>\n",
              "    <tr>\n",
              "      <th>9</th>\n",
              "      <td>high</td>\n",
              "    </tr>\n",
              "  </tbody>\n",
              "</table>\n",
              "</div><br><label><b>dtype:</b> object</label>"
            ]
          },
          "metadata": {},
          "execution_count": 3
        }
      ]
    },
    {
      "cell_type": "code",
      "source": [
        "s.mean()"
      ],
      "metadata": {
        "id": "8nfRUQM-4pvv",
        "outputId": "c12e86a1-3ec3-42fd-b0af-9c109bf1716e",
        "colab": {
          "base_uri": "https://localhost:8080/"
        }
      },
      "execution_count": 4,
      "outputs": [
        {
          "output_type": "execute_result",
          "data": {
            "text/plain": [
              "11.5"
            ]
          },
          "metadata": {},
          "execution_count": 4
        }
      ]
    },
    {
      "cell_type": "markdown",
      "source": [
        "Replace the missing values of a numeric series with the median value."
      ],
      "metadata": {
        "id": "xHga3RdR5NX_"
      }
    },
    {
      "cell_type": "markdown",
      "source": [],
      "metadata": {
        "id": "em8MVP_15Gm0"
      }
    },
    {
      "cell_type": "code",
      "source": [
        "s.loc[1] = np.nan"
      ],
      "metadata": {
        "id": "t7-XWFRD0PHA"
      },
      "execution_count": 9,
      "outputs": []
    },
    {
      "cell_type": "code",
      "source": [
        "s"
      ],
      "metadata": {
        "id": "EUxt_o4a0PJq",
        "outputId": "6b3fc2c3-e396-4e84-c2d9-0b77bcef5059",
        "colab": {
          "base_uri": "https://localhost:8080/",
          "height": 398
        }
      },
      "execution_count": 10,
      "outputs": [
        {
          "output_type": "execute_result",
          "data": {
            "text/plain": [
              "0     3.0\n",
              "1     NaN\n",
              "2     2.0\n",
              "3     7.0\n",
              "4     1.0\n",
              "5     9.0\n",
              "6    10.0\n",
              "7    23.0\n",
              "8    43.0\n",
              "9    12.0\n",
              "dtype: float64"
            ],
            "text/html": [
              "<div>\n",
              "<style scoped>\n",
              "    .dataframe tbody tr th:only-of-type {\n",
              "        vertical-align: middle;\n",
              "    }\n",
              "\n",
              "    .dataframe tbody tr th {\n",
              "        vertical-align: top;\n",
              "    }\n",
              "\n",
              "    .dataframe thead th {\n",
              "        text-align: right;\n",
              "    }\n",
              "</style>\n",
              "<table border=\"1\" class=\"dataframe\">\n",
              "  <thead>\n",
              "    <tr style=\"text-align: right;\">\n",
              "      <th></th>\n",
              "      <th>0</th>\n",
              "    </tr>\n",
              "  </thead>\n",
              "  <tbody>\n",
              "    <tr>\n",
              "      <th>0</th>\n",
              "      <td>3.0</td>\n",
              "    </tr>\n",
              "    <tr>\n",
              "      <th>1</th>\n",
              "      <td>NaN</td>\n",
              "    </tr>\n",
              "    <tr>\n",
              "      <th>2</th>\n",
              "      <td>2.0</td>\n",
              "    </tr>\n",
              "    <tr>\n",
              "      <th>3</th>\n",
              "      <td>7.0</td>\n",
              "    </tr>\n",
              "    <tr>\n",
              "      <th>4</th>\n",
              "      <td>1.0</td>\n",
              "    </tr>\n",
              "    <tr>\n",
              "      <th>5</th>\n",
              "      <td>9.0</td>\n",
              "    </tr>\n",
              "    <tr>\n",
              "      <th>6</th>\n",
              "      <td>10.0</td>\n",
              "    </tr>\n",
              "    <tr>\n",
              "      <th>7</th>\n",
              "      <td>23.0</td>\n",
              "    </tr>\n",
              "    <tr>\n",
              "      <th>8</th>\n",
              "      <td>43.0</td>\n",
              "    </tr>\n",
              "    <tr>\n",
              "      <th>9</th>\n",
              "      <td>12.0</td>\n",
              "    </tr>\n",
              "  </tbody>\n",
              "</table>\n",
              "</div><br><label><b>dtype:</b> float64</label>"
            ]
          },
          "metadata": {},
          "execution_count": 10
        }
      ]
    },
    {
      "cell_type": "code",
      "source": [
        "s.median()"
      ],
      "metadata": {
        "id": "TBUCRNZI5gDF",
        "outputId": "95eea6f5-b1c5-4f1d-d039-55a32df446e5",
        "colab": {
          "base_uri": "https://localhost:8080/"
        }
      },
      "execution_count": 13,
      "outputs": [
        {
          "output_type": "execute_result",
          "data": {
            "text/plain": [
              "9.0"
            ]
          },
          "metadata": {},
          "execution_count": 13
        }
      ]
    },
    {
      "cell_type": "code",
      "source": [
        "s.fillna(s.median())"
      ],
      "metadata": {
        "id": "kk_u_8VC0PMW",
        "outputId": "d4f1d094-41e1-42a8-9712-5130f7e3056b",
        "colab": {
          "base_uri": "https://localhost:8080/",
          "height": 398
        }
      },
      "execution_count": 12,
      "outputs": [
        {
          "output_type": "execute_result",
          "data": {
            "text/plain": [
              "0     3.0\n",
              "1     9.0\n",
              "2     2.0\n",
              "3     7.0\n",
              "4     1.0\n",
              "5     9.0\n",
              "6    10.0\n",
              "7    23.0\n",
              "8    43.0\n",
              "9    12.0\n",
              "dtype: float64"
            ],
            "text/html": [
              "<div>\n",
              "<style scoped>\n",
              "    .dataframe tbody tr th:only-of-type {\n",
              "        vertical-align: middle;\n",
              "    }\n",
              "\n",
              "    .dataframe tbody tr th {\n",
              "        vertical-align: top;\n",
              "    }\n",
              "\n",
              "    .dataframe thead th {\n",
              "        text-align: right;\n",
              "    }\n",
              "</style>\n",
              "<table border=\"1\" class=\"dataframe\">\n",
              "  <thead>\n",
              "    <tr style=\"text-align: right;\">\n",
              "      <th></th>\n",
              "      <th>0</th>\n",
              "    </tr>\n",
              "  </thead>\n",
              "  <tbody>\n",
              "    <tr>\n",
              "      <th>0</th>\n",
              "      <td>3.0</td>\n",
              "    </tr>\n",
              "    <tr>\n",
              "      <th>1</th>\n",
              "      <td>9.0</td>\n",
              "    </tr>\n",
              "    <tr>\n",
              "      <th>2</th>\n",
              "      <td>2.0</td>\n",
              "    </tr>\n",
              "    <tr>\n",
              "      <th>3</th>\n",
              "      <td>7.0</td>\n",
              "    </tr>\n",
              "    <tr>\n",
              "      <th>4</th>\n",
              "      <td>1.0</td>\n",
              "    </tr>\n",
              "    <tr>\n",
              "      <th>5</th>\n",
              "      <td>9.0</td>\n",
              "    </tr>\n",
              "    <tr>\n",
              "      <th>6</th>\n",
              "      <td>10.0</td>\n",
              "    </tr>\n",
              "    <tr>\n",
              "      <th>7</th>\n",
              "      <td>23.0</td>\n",
              "    </tr>\n",
              "    <tr>\n",
              "      <th>8</th>\n",
              "      <td>43.0</td>\n",
              "    </tr>\n",
              "    <tr>\n",
              "      <th>9</th>\n",
              "      <td>12.0</td>\n",
              "    </tr>\n",
              "  </tbody>\n",
              "</table>\n",
              "</div><br><label><b>dtype:</b> float64</label>"
            ]
          },
          "metadata": {},
          "execution_count": 12
        }
      ]
    },
    {
      "cell_type": "code",
      "source": [],
      "metadata": {
        "id": "zfFIXJlc0POy"
      },
      "execution_count": null,
      "outputs": []
    },
    {
      "cell_type": "markdown",
      "source": [
        "Clip the values of a numeric series to between to 10th and 90th percentiles."
      ],
      "metadata": {
        "id": "a_sUnt6b_TUN"
      }
    },
    {
      "cell_type": "code",
      "source": [
        "s.clip(s.quantile(0.1), s.quantile(0.9))"
      ],
      "metadata": {
        "id": "8qUM1WAl0PRt",
        "outputId": "365d12a5-9f56-47b0-d942-3c587cfd2a30",
        "colab": {
          "base_uri": "https://localhost:8080/",
          "height": 398
        }
      },
      "execution_count": 14,
      "outputs": [
        {
          "output_type": "execute_result",
          "data": {
            "text/plain": [
              "0     3.0\n",
              "1     NaN\n",
              "2     2.0\n",
              "3     7.0\n",
              "4     1.8\n",
              "5     9.0\n",
              "6    10.0\n",
              "7    23.0\n",
              "8    27.0\n",
              "9    12.0\n",
              "dtype: float64"
            ],
            "text/html": [
              "<div>\n",
              "<style scoped>\n",
              "    .dataframe tbody tr th:only-of-type {\n",
              "        vertical-align: middle;\n",
              "    }\n",
              "\n",
              "    .dataframe tbody tr th {\n",
              "        vertical-align: top;\n",
              "    }\n",
              "\n",
              "    .dataframe thead th {\n",
              "        text-align: right;\n",
              "    }\n",
              "</style>\n",
              "<table border=\"1\" class=\"dataframe\">\n",
              "  <thead>\n",
              "    <tr style=\"text-align: right;\">\n",
              "      <th></th>\n",
              "      <th>0</th>\n",
              "    </tr>\n",
              "  </thead>\n",
              "  <tbody>\n",
              "    <tr>\n",
              "      <th>0</th>\n",
              "      <td>3.0</td>\n",
              "    </tr>\n",
              "    <tr>\n",
              "      <th>1</th>\n",
              "      <td>NaN</td>\n",
              "    </tr>\n",
              "    <tr>\n",
              "      <th>2</th>\n",
              "      <td>2.0</td>\n",
              "    </tr>\n",
              "    <tr>\n",
              "      <th>3</th>\n",
              "      <td>7.0</td>\n",
              "    </tr>\n",
              "    <tr>\n",
              "      <th>4</th>\n",
              "      <td>1.8</td>\n",
              "    </tr>\n",
              "    <tr>\n",
              "      <th>5</th>\n",
              "      <td>9.0</td>\n",
              "    </tr>\n",
              "    <tr>\n",
              "      <th>6</th>\n",
              "      <td>10.0</td>\n",
              "    </tr>\n",
              "    <tr>\n",
              "      <th>7</th>\n",
              "      <td>23.0</td>\n",
              "    </tr>\n",
              "    <tr>\n",
              "      <th>8</th>\n",
              "      <td>27.0</td>\n",
              "    </tr>\n",
              "    <tr>\n",
              "      <th>9</th>\n",
              "      <td>12.0</td>\n",
              "    </tr>\n",
              "  </tbody>\n",
              "</table>\n",
              "</div><br><label><b>dtype:</b> float64</label>"
            ]
          },
          "metadata": {},
          "execution_count": 14
        }
      ]
    },
    {
      "cell_type": "markdown",
      "source": [
        "Using a categorical column, replace any value that is not in the top 5 most frequent values\n",
        "with 'Other'."
      ],
      "metadata": {
        "id": "l8mY4bfMAKwx"
      }
    },
    {
      "cell_type": "code",
      "source": [
        "make = df.make"
      ],
      "metadata": {
        "id": "Yl_jFqFCALm3"
      },
      "execution_count": 17,
      "outputs": []
    },
    {
      "cell_type": "code",
      "source": [
        "make.value_counts()"
      ],
      "metadata": {
        "id": "ZpdreIeoALq3",
        "outputId": "ed563b14-3cd8-4956-bb67-c335490a1480",
        "colab": {
          "base_uri": "https://localhost:8080/",
          "height": 490
        }
      },
      "execution_count": 18,
      "outputs": [
        {
          "output_type": "execute_result",
          "data": {
            "text/plain": [
              "make\n",
              "Chevrolet                      4003\n",
              "Ford                           3371\n",
              "Dodge                          2583\n",
              "GMC                            2494\n",
              "Toyota                         2071\n",
              "                               ... \n",
              "Volga Associated Automobile       1\n",
              "Panos                             1\n",
              "Mahindra                          1\n",
              "Excalibur Autos                   1\n",
              "London Coach Co Inc               1\n",
              "Name: count, Length: 136, dtype: int64"
            ],
            "text/html": [
              "<div>\n",
              "<style scoped>\n",
              "    .dataframe tbody tr th:only-of-type {\n",
              "        vertical-align: middle;\n",
              "    }\n",
              "\n",
              "    .dataframe tbody tr th {\n",
              "        vertical-align: top;\n",
              "    }\n",
              "\n",
              "    .dataframe thead th {\n",
              "        text-align: right;\n",
              "    }\n",
              "</style>\n",
              "<table border=\"1\" class=\"dataframe\">\n",
              "  <thead>\n",
              "    <tr style=\"text-align: right;\">\n",
              "      <th></th>\n",
              "      <th>count</th>\n",
              "    </tr>\n",
              "    <tr>\n",
              "      <th>make</th>\n",
              "      <th></th>\n",
              "    </tr>\n",
              "  </thead>\n",
              "  <tbody>\n",
              "    <tr>\n",
              "      <th>Chevrolet</th>\n",
              "      <td>4003</td>\n",
              "    </tr>\n",
              "    <tr>\n",
              "      <th>Ford</th>\n",
              "      <td>3371</td>\n",
              "    </tr>\n",
              "    <tr>\n",
              "      <th>Dodge</th>\n",
              "      <td>2583</td>\n",
              "    </tr>\n",
              "    <tr>\n",
              "      <th>GMC</th>\n",
              "      <td>2494</td>\n",
              "    </tr>\n",
              "    <tr>\n",
              "      <th>Toyota</th>\n",
              "      <td>2071</td>\n",
              "    </tr>\n",
              "    <tr>\n",
              "      <th>...</th>\n",
              "      <td>...</td>\n",
              "    </tr>\n",
              "    <tr>\n",
              "      <th>Volga Associated Automobile</th>\n",
              "      <td>1</td>\n",
              "    </tr>\n",
              "    <tr>\n",
              "      <th>Panos</th>\n",
              "      <td>1</td>\n",
              "    </tr>\n",
              "    <tr>\n",
              "      <th>Mahindra</th>\n",
              "      <td>1</td>\n",
              "    </tr>\n",
              "    <tr>\n",
              "      <th>Excalibur Autos</th>\n",
              "      <td>1</td>\n",
              "    </tr>\n",
              "    <tr>\n",
              "      <th>London Coach Co Inc</th>\n",
              "      <td>1</td>\n",
              "    </tr>\n",
              "  </tbody>\n",
              "</table>\n",
              "<p>136 rows × 1 columns</p>\n",
              "</div><br><label><b>dtype:</b> int64</label>"
            ]
          },
          "metadata": {},
          "execution_count": 18
        }
      ]
    },
    {
      "cell_type": "code",
      "source": [
        "top5 = make.value_counts().index[:5]"
      ],
      "metadata": {
        "id": "qAVxD7jvGbPA"
      },
      "execution_count": 19,
      "outputs": []
    },
    {
      "cell_type": "code",
      "source": [
        "make.where(make.isin(top5), 'Other')"
      ],
      "metadata": {
        "id": "XOL0bxuyALvl",
        "outputId": "00100212-bc96-49fb-dda5-3112499f8e2e",
        "colab": {
          "base_uri": "https://localhost:8080/",
          "height": 459
        }
      },
      "execution_count": 20,
      "outputs": [
        {
          "output_type": "execute_result",
          "data": {
            "text/plain": [
              "0        Other\n",
              "1        Other\n",
              "2        Dodge\n",
              "3        Dodge\n",
              "4        Other\n",
              "         ...  \n",
              "41139    Other\n",
              "41140    Other\n",
              "41141    Other\n",
              "41142    Other\n",
              "41143    Other\n",
              "Name: make, Length: 41144, dtype: object"
            ],
            "text/html": [
              "<div>\n",
              "<style scoped>\n",
              "    .dataframe tbody tr th:only-of-type {\n",
              "        vertical-align: middle;\n",
              "    }\n",
              "\n",
              "    .dataframe tbody tr th {\n",
              "        vertical-align: top;\n",
              "    }\n",
              "\n",
              "    .dataframe thead th {\n",
              "        text-align: right;\n",
              "    }\n",
              "</style>\n",
              "<table border=\"1\" class=\"dataframe\">\n",
              "  <thead>\n",
              "    <tr style=\"text-align: right;\">\n",
              "      <th></th>\n",
              "      <th>make</th>\n",
              "    </tr>\n",
              "  </thead>\n",
              "  <tbody>\n",
              "    <tr>\n",
              "      <th>0</th>\n",
              "      <td>Other</td>\n",
              "    </tr>\n",
              "    <tr>\n",
              "      <th>1</th>\n",
              "      <td>Other</td>\n",
              "    </tr>\n",
              "    <tr>\n",
              "      <th>2</th>\n",
              "      <td>Dodge</td>\n",
              "    </tr>\n",
              "    <tr>\n",
              "      <th>3</th>\n",
              "      <td>Dodge</td>\n",
              "    </tr>\n",
              "    <tr>\n",
              "      <th>4</th>\n",
              "      <td>Other</td>\n",
              "    </tr>\n",
              "    <tr>\n",
              "      <th>...</th>\n",
              "      <td>...</td>\n",
              "    </tr>\n",
              "    <tr>\n",
              "      <th>41139</th>\n",
              "      <td>Other</td>\n",
              "    </tr>\n",
              "    <tr>\n",
              "      <th>41140</th>\n",
              "      <td>Other</td>\n",
              "    </tr>\n",
              "    <tr>\n",
              "      <th>41141</th>\n",
              "      <td>Other</td>\n",
              "    </tr>\n",
              "    <tr>\n",
              "      <th>41142</th>\n",
              "      <td>Other</td>\n",
              "    </tr>\n",
              "    <tr>\n",
              "      <th>41143</th>\n",
              "      <td>Other</td>\n",
              "    </tr>\n",
              "  </tbody>\n",
              "</table>\n",
              "<p>41144 rows × 1 columns</p>\n",
              "</div><br><label><b>dtype:</b> object</label>"
            ]
          },
          "metadata": {},
          "execution_count": 20
        }
      ]
    },
    {
      "cell_type": "code",
      "source": [
        "s.loc[1]=20"
      ],
      "metadata": {
        "id": "7CAcIaOqALzg"
      },
      "execution_count": 22,
      "outputs": []
    },
    {
      "cell_type": "code",
      "source": [
        "s"
      ],
      "metadata": {
        "id": "REnY5j0eAL2Y",
        "outputId": "80541a2f-82ea-4ced-c4f2-281e10bc237e",
        "colab": {
          "base_uri": "https://localhost:8080/",
          "height": 398
        }
      },
      "execution_count": 23,
      "outputs": [
        {
          "output_type": "execute_result",
          "data": {
            "text/plain": [
              "0     3.0\n",
              "1    20.0\n",
              "2     2.0\n",
              "3     7.0\n",
              "4     1.0\n",
              "5     9.0\n",
              "6    10.0\n",
              "7    23.0\n",
              "8    43.0\n",
              "9    12.0\n",
              "dtype: float64"
            ],
            "text/html": [
              "<div>\n",
              "<style scoped>\n",
              "    .dataframe tbody tr th:only-of-type {\n",
              "        vertical-align: middle;\n",
              "    }\n",
              "\n",
              "    .dataframe tbody tr th {\n",
              "        vertical-align: top;\n",
              "    }\n",
              "\n",
              "    .dataframe thead th {\n",
              "        text-align: right;\n",
              "    }\n",
              "</style>\n",
              "<table border=\"1\" class=\"dataframe\">\n",
              "  <thead>\n",
              "    <tr style=\"text-align: right;\">\n",
              "      <th></th>\n",
              "      <th>0</th>\n",
              "    </tr>\n",
              "  </thead>\n",
              "  <tbody>\n",
              "    <tr>\n",
              "      <th>0</th>\n",
              "      <td>3.0</td>\n",
              "    </tr>\n",
              "    <tr>\n",
              "      <th>1</th>\n",
              "      <td>20.0</td>\n",
              "    </tr>\n",
              "    <tr>\n",
              "      <th>2</th>\n",
              "      <td>2.0</td>\n",
              "    </tr>\n",
              "    <tr>\n",
              "      <th>3</th>\n",
              "      <td>7.0</td>\n",
              "    </tr>\n",
              "    <tr>\n",
              "      <th>4</th>\n",
              "      <td>1.0</td>\n",
              "    </tr>\n",
              "    <tr>\n",
              "      <th>5</th>\n",
              "      <td>9.0</td>\n",
              "    </tr>\n",
              "    <tr>\n",
              "      <th>6</th>\n",
              "      <td>10.0</td>\n",
              "    </tr>\n",
              "    <tr>\n",
              "      <th>7</th>\n",
              "      <td>23.0</td>\n",
              "    </tr>\n",
              "    <tr>\n",
              "      <th>8</th>\n",
              "      <td>43.0</td>\n",
              "    </tr>\n",
              "    <tr>\n",
              "      <th>9</th>\n",
              "      <td>12.0</td>\n",
              "    </tr>\n",
              "  </tbody>\n",
              "</table>\n",
              "</div><br><label><b>dtype:</b> float64</label>"
            ]
          },
          "metadata": {},
          "execution_count": 23
        }
      ]
    },
    {
      "cell_type": "code",
      "source": [
        "pd.cut(s, 10)"
      ],
      "metadata": {
        "id": "4xJjKOreGzBI",
        "outputId": "7bdfb451-e126-47dd-8f2f-666a03b02534",
        "colab": {
          "base_uri": "https://localhost:8080/",
          "height": 398
        }
      },
      "execution_count": 24,
      "outputs": [
        {
          "output_type": "execute_result",
          "data": {
            "text/plain": [
              "0    (0.958, 5.2]\n",
              "1    (17.8, 22.0]\n",
              "2    (0.958, 5.2]\n",
              "3      (5.2, 9.4]\n",
              "4    (0.958, 5.2]\n",
              "5      (5.2, 9.4]\n",
              "6     (9.4, 13.6]\n",
              "7    (22.0, 26.2]\n",
              "8    (38.8, 43.0]\n",
              "9     (9.4, 13.6]\n",
              "dtype: category\n",
              "Categories (10, interval[float64, right]): [(0.958, 5.2] < (5.2, 9.4] < (9.4, 13.6] < (13.6, 17.8] <\n",
              "                                            ... < (26.2, 30.4] < (30.4, 34.6] <\n",
              "                                            (34.6, 38.8] < (38.8, 43.0]]"
            ],
            "text/html": [
              "<div>\n",
              "<style scoped>\n",
              "    .dataframe tbody tr th:only-of-type {\n",
              "        vertical-align: middle;\n",
              "    }\n",
              "\n",
              "    .dataframe tbody tr th {\n",
              "        vertical-align: top;\n",
              "    }\n",
              "\n",
              "    .dataframe thead th {\n",
              "        text-align: right;\n",
              "    }\n",
              "</style>\n",
              "<table border=\"1\" class=\"dataframe\">\n",
              "  <thead>\n",
              "    <tr style=\"text-align: right;\">\n",
              "      <th></th>\n",
              "      <th>0</th>\n",
              "    </tr>\n",
              "  </thead>\n",
              "  <tbody>\n",
              "    <tr>\n",
              "      <th>0</th>\n",
              "      <td>(0.958, 5.2]</td>\n",
              "    </tr>\n",
              "    <tr>\n",
              "      <th>1</th>\n",
              "      <td>(17.8, 22.0]</td>\n",
              "    </tr>\n",
              "    <tr>\n",
              "      <th>2</th>\n",
              "      <td>(0.958, 5.2]</td>\n",
              "    </tr>\n",
              "    <tr>\n",
              "      <th>3</th>\n",
              "      <td>(5.2, 9.4]</td>\n",
              "    </tr>\n",
              "    <tr>\n",
              "      <th>4</th>\n",
              "      <td>(0.958, 5.2]</td>\n",
              "    </tr>\n",
              "    <tr>\n",
              "      <th>5</th>\n",
              "      <td>(5.2, 9.4]</td>\n",
              "    </tr>\n",
              "    <tr>\n",
              "      <th>6</th>\n",
              "      <td>(9.4, 13.6]</td>\n",
              "    </tr>\n",
              "    <tr>\n",
              "      <th>7</th>\n",
              "      <td>(22.0, 26.2]</td>\n",
              "    </tr>\n",
              "    <tr>\n",
              "      <th>8</th>\n",
              "      <td>(38.8, 43.0]</td>\n",
              "    </tr>\n",
              "    <tr>\n",
              "      <th>9</th>\n",
              "      <td>(9.4, 13.6]</td>\n",
              "    </tr>\n",
              "  </tbody>\n",
              "</table>\n",
              "</div><br><label><b>dtype:</b> category</label>"
            ]
          },
          "metadata": {},
          "execution_count": 24
        }
      ]
    },
    {
      "cell_type": "code",
      "source": [
        "pd.cut(s, 10).nunique()"
      ],
      "metadata": {
        "id": "P5co0bUWGzEF",
        "outputId": "2e1458af-16fb-478b-df4e-261d1bec8c49",
        "colab": {
          "base_uri": "https://localhost:8080/"
        }
      },
      "execution_count": 25,
      "outputs": [
        {
          "output_type": "execute_result",
          "data": {
            "text/plain": [
              "6"
            ]
          },
          "metadata": {},
          "execution_count": 25
        }
      ]
    },
    {
      "cell_type": "code",
      "source": [
        "5.2-0.958"
      ],
      "metadata": {
        "id": "ParkdWOMGzHd",
        "outputId": "34b07c11-05b2-40c7-beb8-320109e5d4e0",
        "colab": {
          "base_uri": "https://localhost:8080/"
        }
      },
      "execution_count": 26,
      "outputs": [
        {
          "output_type": "execute_result",
          "data": {
            "text/plain": [
              "4.242"
            ]
          },
          "metadata": {},
          "execution_count": 26
        }
      ]
    },
    {
      "cell_type": "code",
      "source": [
        "df2 = pd.DataFrame({'values': [1, 2, 3, 4, 5, 6, 7, 8, 9, 10]})"
      ],
      "metadata": {
        "id": "ZizMQNWUMf8R"
      },
      "execution_count": 36,
      "outputs": []
    },
    {
      "cell_type": "code",
      "source": [
        "df2['bins'] = pd.cut(df2['values'], bins = 3)\n",
        "print(df2)"
      ],
      "metadata": {
        "id": "oqgTgBp3M2dh",
        "outputId": "60e8f95c-c36f-4346-ba45-8f599401acaf",
        "colab": {
          "base_uri": "https://localhost:8080/"
        }
      },
      "execution_count": 39,
      "outputs": [
        {
          "output_type": "stream",
          "name": "stdout",
          "text": [
            "   values          bins\n",
            "0       1  (0.991, 4.0]\n",
            "1       2  (0.991, 4.0]\n",
            "2       3  (0.991, 4.0]\n",
            "3       4  (0.991, 4.0]\n",
            "4       5    (4.0, 7.0]\n",
            "5       6    (4.0, 7.0]\n",
            "6       7    (4.0, 7.0]\n",
            "7       8   (7.0, 10.0]\n",
            "8       9   (7.0, 10.0]\n",
            "9      10   (7.0, 10.0]\n"
          ]
        }
      ]
    },
    {
      "cell_type": "code",
      "source": [
        "df2 = pd.DataFrame({'values': [1, 5, 10, 15, 20, 25]})\n",
        "\n",
        "# Create 3 equal-width bins\n",
        "df2['bins'] = pd.cut(df2['values'], bins=3)\n",
        "\n",
        "print(df2)"
      ],
      "metadata": {
        "id": "MmHHPMHHGzKQ",
        "outputId": "e369d291-eb22-4971-f9bd-c3752cf3ee76",
        "colab": {
          "base_uri": "https://localhost:8080/"
        }
      },
      "execution_count": 32,
      "outputs": [
        {
          "output_type": "stream",
          "name": "stdout",
          "text": [
            "   values          bins\n",
            "0       1  (0.976, 9.0]\n",
            "1       5  (0.976, 9.0]\n",
            "2      10   (9.0, 17.0]\n",
            "3      15   (9.0, 17.0]\n",
            "4      20  (17.0, 25.0]\n",
            "5      25  (17.0, 25.0]\n"
          ]
        }
      ]
    },
    {
      "cell_type": "code",
      "source": [
        "df2['bins_with_labels'] = pd.cut(df2['values'], bins=3, labels=['Low', 'Medium', 'High'])\n",
        "\n",
        "print(df2)"
      ],
      "metadata": {
        "id": "4zXaLfoUGzNI",
        "outputId": "ed19351c-58a5-4da2-f8b6-ba2deb95f59d",
        "colab": {
          "base_uri": "https://localhost:8080/"
        }
      },
      "execution_count": 34,
      "outputs": [
        {
          "output_type": "stream",
          "name": "stdout",
          "text": [
            "   values bins_with_labels\n",
            "0       1              Low\n",
            "1       5              Low\n",
            "2      10           Medium\n",
            "3      15           Medium\n",
            "4      20             High\n",
            "5      25             High\n"
          ]
        }
      ]
    },
    {
      "cell_type": "code",
      "source": [],
      "metadata": {
        "id": "p30JclbjGzQD"
      },
      "execution_count": null,
      "outputs": []
    },
    {
      "cell_type": "code",
      "source": [
        "data = {'values': [1, 2, 3, 4, 5, 6, 7, 8, 9, 10]}\n",
        "df3 = pd.DataFrame(data)\n",
        "\n",
        "# Create 3 equal-sized bins\n",
        "df3['bins'] = pd.cut(df3['values'], bins=3)\n",
        "print(df3)"
      ],
      "metadata": {
        "id": "C3DE-XiC0PUm",
        "outputId": "d70a15cb-8be3-467d-fbf7-2f651d6428da",
        "colab": {
          "base_uri": "https://localhost:8080/"
        }
      },
      "execution_count": 41,
      "outputs": [
        {
          "output_type": "stream",
          "name": "stdout",
          "text": [
            "   values          bins\n",
            "0       1  (0.991, 4.0]\n",
            "1       2  (0.991, 4.0]\n",
            "2       3  (0.991, 4.0]\n",
            "3       4  (0.991, 4.0]\n",
            "4       5    (4.0, 7.0]\n",
            "5       6    (4.0, 7.0]\n",
            "6       7    (4.0, 7.0]\n",
            "7       8   (7.0, 10.0]\n",
            "8       9   (7.0, 10.0]\n",
            "9      10   (7.0, 10.0]\n"
          ]
        }
      ]
    },
    {
      "cell_type": "code",
      "source": [
        "s.quantile(0.1), s.quantile(0.9)"
      ],
      "metadata": {
        "id": "27ob-cp70PXt",
        "outputId": "46f929c5-3f56-411c-bf9d-c13d28af5aed",
        "colab": {
          "base_uri": "https://localhost:8080/"
        }
      },
      "execution_count": 16,
      "outputs": [
        {
          "output_type": "execute_result",
          "data": {
            "text/plain": [
              "(1.8, 27.000000000000004)"
            ]
          },
          "metadata": {},
          "execution_count": 16
        }
      ]
    },
    {
      "cell_type": "code",
      "source": [],
      "metadata": {
        "id": "5_oMjugL0PaR"
      },
      "execution_count": null,
      "outputs": []
    },
    {
      "cell_type": "code",
      "source": [],
      "metadata": {
        "id": "SrXpa3_F0Pc-"
      },
      "execution_count": null,
      "outputs": []
    },
    {
      "cell_type": "markdown",
      "metadata": {
        "id": "W9-LwH5V0KRa"
      },
      "source": [
        "## 9.1 .apply, .where and .mask"
      ]
    },
    {
      "cell_type": "markdown",
      "metadata": {
        "id": "ftqbB15g0KRa"
      },
      "source": [
        "- ``.apply`` allows you to apply a function element-wise to every value.\n",
        "- If we pass in a numpy function that works on an array, it will broadcast the operation to the series\n",
        "- However, ``.apply`` is not very efficient because the function is called once for every value. This breaks out of the fast vectorized code paths we can leverage in pandas."
      ]
    },
    {
      "cell_type": "code",
      "execution_count": null,
      "metadata": {
        "id": "JUKXJBHZ0KRb"
      },
      "outputs": [],
      "source": [
        "def gt20(val):\n",
        "    return val > 20"
      ]
    },
    {
      "cell_type": "code",
      "execution_count": null,
      "metadata": {
        "id": "soGXQ4AA0KRc",
        "outputId": "9be89dde-c96a-4bbf-998c-54aca628b01d"
      },
      "outputs": [
        {
          "name": "stdout",
          "output_type": "stream",
          "text": [
            "4.59 ms ± 39.7 µs per loop (mean ± std. dev. of 7 runs, 100 loops each)\n"
          ]
        }
      ],
      "source": [
        "%%timeit\n",
        "# using apply function\n",
        "city_mpg.apply(gt20)"
      ]
    },
    {
      "cell_type": "code",
      "execution_count": null,
      "metadata": {
        "id": "ufdK1sQ70KRc",
        "outputId": "5a94594d-9add-4dbe-b07e-bc459ffd1977"
      },
      "outputs": [
        {
          "name": "stdout",
          "output_type": "stream",
          "text": [
            "78.1 µs ± 166 ns per loop (mean ± std. dev. of 7 runs, 10,000 loops each)\n"
          ]
        }
      ],
      "source": [
        "%%timeit\n",
        "# using broadcasting .gt method\n",
        "city_mpg.gt(20)"
      ]
    },
    {
      "cell_type": "code",
      "execution_count": null,
      "metadata": {
        "id": "QEqYNSvT0KRc"
      },
      "outputs": [],
      "source": [
        "make = df.make"
      ]
    },
    {
      "cell_type": "code",
      "execution_count": null,
      "metadata": {
        "id": "KXCN7hxy0KRd",
        "outputId": "1006c392-e3a8-4445-d367-0086f99b2b82"
      },
      "outputs": [
        {
          "data": {
            "text/plain": [
              "Chevrolet                      4003\n",
              "Ford                           3371\n",
              "Dodge                          2583\n",
              "GMC                            2494\n",
              "Toyota                         2071\n",
              "                               ... \n",
              "Volga Associated Automobile       1\n",
              "Panos                             1\n",
              "Mahindra                          1\n",
              "Excalibur Autos                   1\n",
              "London Coach Co Inc               1\n",
              "Name: make, Length: 136, dtype: int64"
            ]
          },
          "execution_count": 19,
          "metadata": {},
          "output_type": "execute_result"
        }
      ],
      "source": [
        "make.value_counts()"
      ]
    },
    {
      "cell_type": "markdown",
      "metadata": {
        "id": "TpHgi8sk0KRe"
      },
      "source": [
        "- In the example  below, the function ``generalize_top5`` is being called once for every value\n",
        "- A faster way is using the ``.where`` method.\n",
        "- ``.where`` method keeps values where the index is True and uses the \"other\" parameter to specify values for False"
      ]
    },
    {
      "cell_type": "code",
      "execution_count": null,
      "metadata": {
        "id": "jUz6MTPa0KRe"
      },
      "outputs": [],
      "source": [
        "# keep the first five entries in the index and replace everything else with other\n",
        "top5 = make.value_counts().index[:5]"
      ]
    },
    {
      "cell_type": "code",
      "execution_count": null,
      "metadata": {
        "id": "xvx5paei0KRf"
      },
      "outputs": [],
      "source": [
        "def generalize_top5(val):\n",
        "    if val in top5:\n",
        "        return val\n",
        "    return \"Other\""
      ]
    },
    {
      "cell_type": "code",
      "execution_count": null,
      "metadata": {
        "id": "Lw2gdfzX0KRf",
        "outputId": "e0a1c4d6-76bd-4d83-8b46-dac47c77e286"
      },
      "outputs": [
        {
          "name": "stdout",
          "output_type": "stream",
          "text": [
            "5.74 ms ± 23.4 µs per loop (mean ± std. dev. of 7 runs, 100 loops each)\n"
          ]
        }
      ],
      "source": [
        "%%timeit\n",
        "# slow\n",
        "make.apply(generalize_top5)"
      ]
    },
    {
      "cell_type": "code",
      "execution_count": null,
      "metadata": {
        "id": "tZMUPCiY0KRg",
        "outputId": "2b5069a0-e4c3-4602-ca71-0114a1f8ad76"
      },
      "outputs": [
        {
          "name": "stdout",
          "output_type": "stream",
          "text": [
            "1.8 ms ± 7.85 µs per loop (mean ± std. dev. of 7 runs, 1,000 loops each)\n"
          ]
        }
      ],
      "source": [
        "%%timeit\n",
        "# better\n",
        "make.where(make.isin(top5), other='Other')"
      ]
    },
    {
      "cell_type": "markdown",
      "metadata": {
        "id": "KiobqlFd0KRg"
      },
      "source": [
        "- ``.mask`` is the complement of .where method.\n",
        "- Wherever the condition is False, it keeps the original values. If it is True, it replaces the value with other parameter."
      ]
    },
    {
      "cell_type": "code",
      "execution_count": null,
      "metadata": {
        "id": "-H5KipQA0KRg",
        "outputId": "65423354-8211-4cf1-c7ac-f8ef7262b67f"
      },
      "outputs": [
        {
          "data": {
            "text/plain": [
              "0        Other\n",
              "1        Other\n",
              "2        Dodge\n",
              "3        Dodge\n",
              "4        Other\n",
              "         ...  \n",
              "41139    Other\n",
              "41140    Other\n",
              "41141    Other\n",
              "41142    Other\n",
              "41143    Other\n",
              "Name: make, Length: 41144, dtype: object"
            ]
          },
          "execution_count": 28,
          "metadata": {},
          "output_type": "execute_result"
        }
      ],
      "source": [
        "make.mask(~make.isin(top5), other='Other')"
      ]
    },
    {
      "cell_type": "markdown",
      "metadata": {
        "id": "sS0hU7c70KRh"
      },
      "source": [
        "## 9.2 If Else and .select"
      ]
    },
    {
      "cell_type": "code",
      "execution_count": null,
      "metadata": {
        "id": "LEHD_qUN0KRh"
      },
      "outputs": [],
      "source": [
        "vc = make.value_counts()\n",
        "top5 = vc.index[:5]\n",
        "top10 = vc.index[:10]"
      ]
    },
    {
      "cell_type": "code",
      "execution_count": null,
      "metadata": {
        "id": "8PFD8vzr0KRh"
      },
      "outputs": [],
      "source": [
        "def generalize(val):\n",
        "    if val in top5:\n",
        "        return val\n",
        "    elif val in top10:\n",
        "        return 'Top10'\n",
        "    else:\n",
        "        return 'Other'"
      ]
    },
    {
      "cell_type": "code",
      "execution_count": null,
      "metadata": {
        "id": "vuewUI600KRh",
        "outputId": "7ab1fb94-7f4e-4ce1-9315-e432caf70236"
      },
      "outputs": [
        {
          "data": {
            "text/plain": [
              "0        Other\n",
              "1        Other\n",
              "2        Dodge\n",
              "3        Dodge\n",
              "4        Other\n",
              "         ...  \n",
              "41139    Other\n",
              "41140    Other\n",
              "41141    Other\n",
              "41142    Other\n",
              "41143    Other\n",
              "Name: make, Length: 41144, dtype: object"
            ]
          },
          "execution_count": 31,
          "metadata": {},
          "output_type": "execute_result"
        }
      ],
      "source": [
        "make.apply(generalize)"
      ]
    },
    {
      "cell_type": "code",
      "execution_count": null,
      "metadata": {
        "id": "V2dgwzuS0KRh",
        "outputId": "788e5bf3-945a-46ce-dfa2-c80668785d12"
      },
      "outputs": [
        {
          "data": {
            "text/plain": [
              "0        Other\n",
              "1        Other\n",
              "2        Dodge\n",
              "3        Dodge\n",
              "4        Other\n",
              "         ...  \n",
              "41139    Other\n",
              "41140    Other\n",
              "41141    Other\n",
              "41142    Other\n",
              "41143    Other\n",
              "Name: make, Length: 41144, dtype: object"
            ]
          },
          "execution_count": 34,
          "metadata": {},
          "output_type": "execute_result"
        }
      ],
      "source": [
        "(make\n",
        ".where(make.isin(top5), 'Top10')\n",
        ".where(make.isin(top10), 'Other'))"
      ]
    },
    {
      "cell_type": "markdown",
      "metadata": {
        "id": "M0WKOodd0KRh"
      },
      "source": [
        "- The interface takes a list of boolean arrays and a list with corresponding replacement values"
      ]
    },
    {
      "cell_type": "code",
      "execution_count": null,
      "metadata": {
        "id": "sAB7dH2l0KRh",
        "outputId": "3d73959f-87ff-4d4d-dcef-bf17bb94ee37"
      },
      "outputs": [
        {
          "data": {
            "text/plain": [
              "0        Other\n",
              "1        Other\n",
              "2        Dodge\n",
              "3        Dodge\n",
              "4        Other\n",
              "         ...  \n",
              "41139    Other\n",
              "41140    Other\n",
              "41141    Other\n",
              "41142    Other\n",
              "41143    Other\n",
              "Length: 41144, dtype: object"
            ]
          },
          "execution_count": 36,
          "metadata": {},
          "output_type": "execute_result"
        }
      ],
      "source": [
        "pd.Series(np.select([make.isin(top5), make.isin(top10)], [make, 'Top10'], 'Other'))"
      ]
    },
    {
      "cell_type": "markdown",
      "metadata": {
        "id": "_jzxotdq0KRi"
      },
      "source": [
        "## 9.3 Missing Data"
      ]
    },
    {
      "cell_type": "code",
      "execution_count": null,
      "metadata": {
        "id": "ITpOv9Ck0KRi"
      },
      "outputs": [],
      "source": [
        "cyl = df.cylinders"
      ]
    },
    {
      "cell_type": "code",
      "execution_count": null,
      "metadata": {
        "id": "P164IvVG0KRi",
        "outputId": "fc3e54d0-7b85-44cd-ba68-748b6dbbd099"
      },
      "outputs": [
        {
          "data": {
            "text/plain": [
              "206"
            ]
          },
          "execution_count": 39,
          "metadata": {},
          "output_type": "execute_result"
        }
      ],
      "source": [
        "(cyl\n",
        ".isna()\n",
        ".sum())"
      ]
    },
    {
      "cell_type": "markdown",
      "metadata": {
        "id": "EEYwBkhp0KRi"
      },
      "source": [
        "- Hard to determine why these values are missing from just the ``cylinders`` series alone\n",
        "- We use the ``make`` column to give us some insight"
      ]
    },
    {
      "cell_type": "code",
      "execution_count": null,
      "metadata": {
        "id": "8o6wZh_h0KRi",
        "outputId": "f1225007-1e93-4a1a-f10c-fcad0437e3c9"
      },
      "outputs": [
        {
          "data": {
            "text/plain": [
              "7138     Nissan\n",
              "7139     Toyota\n",
              "8143     Toyota\n",
              "8144       Ford\n",
              "8146       Ford\n",
              "          ...  \n",
              "34563     Tesla\n",
              "34564     Tesla\n",
              "34565     Tesla\n",
              "34566     Tesla\n",
              "34567     Tesla\n",
              "Name: make, Length: 206, dtype: object"
            ]
          },
          "execution_count": 42,
          "metadata": {},
          "output_type": "execute_result"
        }
      ],
      "source": [
        "missing = cyl.isna()\n",
        "make.loc[missing]"
      ]
    },
    {
      "cell_type": "markdown",
      "metadata": {
        "id": "XrWRfwUT0KRj"
      },
      "source": [
        "## 9.4 Filling in Missing Data"
      ]
    },
    {
      "cell_type": "markdown",
      "metadata": {
        "id": "tQkK07Y10KRj"
      },
      "source": [
        "- The ``.fillna`` method allows us to specify a replacement value for any missing data\n",
        "- ``.dropna``\n",
        "- ``.ffill``\n",
        "- ``.interpolate()``"
      ]
    },
    {
      "cell_type": "code",
      "execution_count": null,
      "metadata": {
        "id": "aJae2gLM0KRj",
        "outputId": "22f9b793-8cfa-4a5f-bd1d-379aa0dc6be9"
      },
      "outputs": [
        {
          "data": {
            "text/plain": [
              "7138    NaN\n",
              "7139    NaN\n",
              "8143    NaN\n",
              "8144    NaN\n",
              "8146    NaN\n",
              "         ..\n",
              "34563   NaN\n",
              "34564   NaN\n",
              "34565   NaN\n",
              "34566   NaN\n",
              "34567   NaN\n",
              "Name: cylinders, Length: 206, dtype: float64"
            ]
          },
          "execution_count": 43,
          "metadata": {},
          "output_type": "execute_result"
        }
      ],
      "source": [
        "cyl[cyl.isna()]"
      ]
    },
    {
      "cell_type": "code",
      "execution_count": null,
      "metadata": {
        "id": "m5T8lOVr0KRj",
        "outputId": "cbb8480b-df71-4960-d21e-3070dc4675cf"
      },
      "outputs": [
        {
          "data": {
            "text/plain": [
              "7136    6.0\n",
              "7137    6.0\n",
              "7138    0.0\n",
              "7139    0.0\n",
              "7140    6.0\n",
              "7141    6.0\n",
              "Name: cylinders, dtype: float64"
            ]
          },
          "execution_count": 44,
          "metadata": {},
          "output_type": "execute_result"
        }
      ],
      "source": [
        "# fillna method\n",
        "cyl.fillna(0).loc[7136:7141]"
      ]
    },
    {
      "cell_type": "markdown",
      "metadata": {
        "id": "OQGyUil60KRk"
      },
      "source": [
        "## 9.5 Interpolating Data"
      ]
    },
    {
      "cell_type": "markdown",
      "metadata": {
        "id": "y0olcHGs0KRk"
      },
      "source": [
        "- Another option for replacing missing data ``.interpolate`` method\n",
        "- Handy if data is ordered (i.e time series) and there are holes in the data\n",
        "- In the example below, index label 2 was missing. We use the index label 1 and index label 3 to infer index label 2"
      ]
    },
    {
      "cell_type": "code",
      "execution_count": null,
      "metadata": {
        "id": "MLAclUtn0KRk",
        "outputId": "666080d0-bd68-456f-8975-405c0c296d11"
      },
      "outputs": [
        {
          "data": {
            "text/plain": [
              "0    32.0\n",
              "1    40.0\n",
              "2     NaN\n",
              "3    42.0\n",
              "4    39.0\n",
              "5    32.0\n",
              "dtype: float64"
            ]
          },
          "execution_count": 45,
          "metadata": {},
          "output_type": "execute_result"
        }
      ],
      "source": [
        "temp = pd.Series([32, 40, None, 42, 39,32])\n",
        "temp"
      ]
    },
    {
      "cell_type": "code",
      "execution_count": null,
      "metadata": {
        "id": "Q-AJayr30KRk",
        "outputId": "ae1f5274-8c84-4edc-9b41-4453509825a7"
      },
      "outputs": [
        {
          "data": {
            "text/plain": [
              "0    32.0\n",
              "1    40.0\n",
              "2    41.0\n",
              "3    42.0\n",
              "4    39.0\n",
              "5    32.0\n",
              "dtype: float64"
            ]
          },
          "execution_count": 46,
          "metadata": {},
          "output_type": "execute_result"
        }
      ],
      "source": [
        "temp.interpolate()"
      ]
    },
    {
      "cell_type": "markdown",
      "metadata": {
        "id": "Z1_hZA8e0KRk"
      },
      "source": [
        "## 9.6 Clipping Data"
      ]
    },
    {
      "cell_type": "markdown",
      "metadata": {
        "id": "AplqA31e0KRl"
      },
      "source": [
        "- If we have outliers in our data, we want to use the ``.clip`` method\n",
        "- We can trim the values to be between 5th and 95th quantile"
      ]
    },
    {
      "cell_type": "code",
      "execution_count": null,
      "metadata": {
        "id": "Hg_7uVPJ0KRl",
        "outputId": "8cafea0a-481f-4620-cf90-db08d645dcf1"
      },
      "outputs": [
        {
          "data": {
            "text/plain": [
              "0      19\n",
              "1       9\n",
              "2      23\n",
              "3      10\n",
              "4      17\n",
              "       ..\n",
              "442    15\n",
              "443    15\n",
              "444    15\n",
              "445    15\n",
              "446    31\n",
              "Name: city08, Length: 447, dtype: int64"
            ]
          },
          "execution_count": 47,
          "metadata": {},
          "output_type": "execute_result"
        }
      ],
      "source": [
        "city_mpg.loc[:446]"
      ]
    },
    {
      "cell_type": "code",
      "execution_count": null,
      "metadata": {
        "id": "TIrMUMGI0KRl",
        "outputId": "78c9298f-363a-4ee9-ecf2-460bf9533019"
      },
      "outputs": [
        {
          "data": {
            "text/plain": [
              "0      19\n",
              "1      11\n",
              "2      23\n",
              "3      11\n",
              "4      17\n",
              "       ..\n",
              "442    15\n",
              "443    15\n",
              "444    15\n",
              "445    15\n",
              "446    27\n",
              "Name: city08, Length: 447, dtype: int64"
            ]
          },
          "execution_count": 48,
          "metadata": {},
          "output_type": "execute_result"
        }
      ],
      "source": [
        "# trim values between 5th and 95th quantile\n",
        "(city_mpg\n",
        ".loc[:446]\n",
        ".clip(lower=city_mpg.quantile(0.05),\n",
        "      upper=city_mpg.quantile(0.95)))"
      ]
    },
    {
      "cell_type": "markdown",
      "metadata": {
        "id": "uxLT99cw0KRm"
      },
      "source": [
        "## 9.7 Sorting Values"
      ]
    },
    {
      "cell_type": "code",
      "execution_count": null,
      "metadata": {
        "id": "gQkjkWo-0KRn",
        "outputId": "7aedee9f-6b08-4e5b-867e-8d5c970f6b7f"
      },
      "outputs": [
        {
          "data": {
            "text/plain": [
              "7901       6\n",
              "34557      6\n",
              "37161      6\n",
              "21060      6\n",
              "35887      6\n",
              "        ... \n",
              "34563    138\n",
              "34564    140\n",
              "32599    150\n",
              "31256    150\n",
              "33423    150\n",
              "Name: city08, Length: 41144, dtype: int64"
            ]
          },
          "execution_count": 49,
          "metadata": {},
          "output_type": "execute_result"
        }
      ],
      "source": [
        "city_mpg.sort_values()"
      ]
    },
    {
      "cell_type": "code",
      "execution_count": null,
      "metadata": {
        "id": "_zsF9eET0KRn",
        "outputId": "b42f4f6a-815f-4016-ae31-2a32ba90fa69"
      },
      "outputs": [
        {
          "data": {
            "text/plain": [
              "0        22.0\n",
              "1        11.5\n",
              "2        28.0\n",
              "3        11.0\n",
              "4        20.0\n",
              "         ... \n",
              "41139    22.5\n",
              "41140    24.0\n",
              "41141    21.0\n",
              "41142    21.0\n",
              "41143    18.5\n",
              "Length: 41144, dtype: float64"
            ]
          },
          "execution_count": 50,
          "metadata": {},
          "output_type": "execute_result"
        }
      ],
      "source": [
        "(city_mpg.sort_values() + highway_mpg) / 2"
      ]
    },
    {
      "cell_type": "markdown",
      "metadata": {
        "id": "V5Y17Mzx0KRn"
      },
      "source": [
        "## 9.8 Sorting the Index"
      ]
    },
    {
      "cell_type": "code",
      "execution_count": null,
      "metadata": {
        "id": "Ar8QKIsb0KRn",
        "outputId": "73130b1e-89c8-4b6a-b884-d55de4ed595a"
      },
      "outputs": [
        {
          "data": {
            "text/plain": [
              "0        19\n",
              "1         9\n",
              "2        23\n",
              "3        10\n",
              "4        17\n",
              "         ..\n",
              "41139    19\n",
              "41140    20\n",
              "41141    18\n",
              "41142    18\n",
              "41143    16\n",
              "Name: city08, Length: 41144, dtype: int64"
            ]
          },
          "execution_count": 51,
          "metadata": {},
          "output_type": "execute_result"
        }
      ],
      "source": [
        "city_mpg.sort_values().sort_index()"
      ]
    },
    {
      "cell_type": "markdown",
      "metadata": {
        "id": "idQatkYO0KRo"
      },
      "source": [
        "## 9.9 Dropping Duplicates"
      ]
    },
    {
      "cell_type": "markdown",
      "metadata": {
        "id": "Ze6py8HW0KRo"
      },
      "source": [
        "- ``.drop_duplicates`` method will remove values that appear more than once\n",
        "- We can determine whether to keep the first or last duplicate value found using the ``keep`` parameter\n",
        "- Default value is *'first'*\n",
        "- Setting it to *'last'*  will use the last value\n",
        "- If we set to *'False'*, it will remove any duplicated values"
      ]
    },
    {
      "cell_type": "code",
      "execution_count": null,
      "metadata": {
        "id": "J7KACbtW0KRo",
        "outputId": "f0d1402b-8321-4af5-a3cb-9cccb2a2f91c"
      },
      "outputs": [
        {
          "data": {
            "text/plain": [
              "0         19\n",
              "1          9\n",
              "2         23\n",
              "3         10\n",
              "4         17\n",
              "        ... \n",
              "34364    127\n",
              "34409    114\n",
              "34564    140\n",
              "34565    115\n",
              "34566    104\n",
              "Name: city08, Length: 105, dtype: int64"
            ]
          },
          "execution_count": 52,
          "metadata": {},
          "output_type": "execute_result"
        }
      ],
      "source": [
        "city_mpg.drop_duplicates()"
      ]
    },
    {
      "cell_type": "markdown",
      "metadata": {
        "id": "rewBMF4u0KRo"
      },
      "source": [
        "## 9.10 Ranking Data"
      ]
    },
    {
      "cell_type": "markdown",
      "metadata": {
        "id": "DIVmubKc0KRp"
      },
      "source": [
        "https://dataindependent.com/pandas/pandas-rank-rank-your-data-pd-df-rank/"
      ]
    },
    {
      "cell_type": "markdown",
      "metadata": {
        "id": "K6RqtmAr0KRp"
      },
      "source": [
        "- The rank() function is used to compute numerical data ranks (1 through n) along axis. By default, equal values are assigned a rank that is the average of the ranks of those values\n",
        "- ``.rank`` method will return a series that keeps the original index but uses the ranks of values from the original series\n",
        "- Control how ranking occurs with the ``method`` parameter\n",
        "- By default, if two values are the same, their rank will be the average of the positions they take.\n",
        "- Specify ``min`` to put equal values in the same rank\n",
        "- Specify ``dense`` to not skip any positions"
      ]
    },
    {
      "cell_type": "code",
      "execution_count": null,
      "metadata": {
        "id": "eM50O7Hk0KRp",
        "outputId": "ae289581-c36e-49eb-a228-28a5c77920ea"
      },
      "outputs": [
        {
          "data": {
            "text/plain": [
              "0        19\n",
              "1         9\n",
              "2        23\n",
              "3        10\n",
              "4        17\n",
              "         ..\n",
              "41139    19\n",
              "41140    20\n",
              "41141    18\n",
              "41142    18\n",
              "41143    16\n",
              "Name: city08, Length: 41144, dtype: int64"
            ]
          },
          "execution_count": 54,
          "metadata": {},
          "output_type": "execute_result"
        }
      ],
      "source": [
        "city_mpg"
      ]
    },
    {
      "cell_type": "code",
      "execution_count": null,
      "metadata": {
        "id": "dsNmQ0Ea0KRp",
        "outputId": "a1e1a67e-5ae4-45e8-aa5c-c589fca92c20"
      },
      "outputs": [
        {
          "data": {
            "text/plain": [
              "0        27060.5\n",
              "1          235.5\n",
              "2        35830.0\n",
              "3          607.5\n",
              "4        19484.0\n",
              "          ...   \n",
              "41139    27060.5\n",
              "41140    29719.5\n",
              "41141    23528.0\n",
              "41142    23528.0\n",
              "41143    15479.0\n",
              "Name: city08, Length: 41144, dtype: float64"
            ]
          },
          "execution_count": 53,
          "metadata": {},
          "output_type": "execute_result"
        }
      ],
      "source": [
        "city_mpg.rank()"
      ]
    },
    {
      "cell_type": "code",
      "execution_count": null,
      "metadata": {
        "id": "Pg7_vatd0KRq",
        "outputId": "4b09b9c3-a27f-4d70-92e6-4dd4e8c48a0c"
      },
      "outputs": [
        {
          "data": {
            "text/plain": [
              "0        25555.0\n",
              "1          136.0\n",
              "2        35119.0\n",
              "3          336.0\n",
              "4        17467.0\n",
              "          ...   \n",
              "41139    25555.0\n",
              "41140    28567.0\n",
              "41141    21502.0\n",
              "41142    21502.0\n",
              "41143    13492.0\n",
              "Name: city08, Length: 41144, dtype: float64"
            ]
          },
          "execution_count": 55,
          "metadata": {},
          "output_type": "execute_result"
        }
      ],
      "source": [
        "city_mpg.rank(method='min')"
      ]
    },
    {
      "cell_type": "markdown",
      "metadata": {
        "id": "eiSnOarR0KRq"
      },
      "source": [
        "## 9.11 Replacing Data"
      ]
    },
    {
      "cell_type": "markdown",
      "metadata": {
        "id": "GFi9OdXl0KRq"
      },
      "source": [
        "- The ``to_replace`` parameter's value can contain a regular expression if you provide ``regex=True`` parameter"
      ]
    },
    {
      "cell_type": "code",
      "execution_count": null,
      "metadata": {
        "id": "44P9ZiMp0KRq",
        "outputId": "a627209e-61ee-42be-ca62-712ff0536838"
      },
      "outputs": [
        {
          "data": {
            "text/plain": [
              "0        Alfa Romeo\n",
              "1           Ferrari\n",
              "2             Dodge\n",
              "3             Dodge\n",
              "4               Sub\n",
              "            ...    \n",
              "41139           Sub\n",
              "41140           Sub\n",
              "41141           Sub\n",
              "41142           Sub\n",
              "41143           Sub\n",
              "Name: make, Length: 41144, dtype: object"
            ]
          },
          "execution_count": 56,
          "metadata": {},
          "output_type": "execute_result"
        }
      ],
      "source": [
        "make.replace('Subaru', \"Sub\")"
      ]
    },
    {
      "cell_type": "code",
      "execution_count": null,
      "metadata": {
        "id": "T2q5kUQx0KRr",
        "outputId": "e911686d-3b03-4b67-e270-bfd7fd553566"
      },
      "outputs": [
        {
          "data": {
            "text/plain": [
              "0          Alfa Romeo\n",
              "1        ri-other-Fer\n",
              "2               Dodge\n",
              "3               Dodge\n",
              "4              Subaru\n",
              "             ...     \n",
              "41139          Subaru\n",
              "41140          Subaru\n",
              "41141          Subaru\n",
              "41142          Subaru\n",
              "41143          Subaru\n",
              "Name: make, Length: 41144, dtype: object"
            ]
          },
          "execution_count": 57,
          "metadata": {},
          "output_type": "execute_result"
        }
      ],
      "source": [
        "make.replace(r'(Fer)ra(r.*)',\n",
        "        value=r'\\2-other-\\1', regex=True)\n"
      ]
    },
    {
      "cell_type": "code",
      "execution_count": null,
      "metadata": {
        "id": "BJXy7rFf0KRs",
        "outputId": "6688aebe-71ad-4204-d2ca-3e8e5405ebd4"
      },
      "outputs": [
        {
          "data": {
            "text/plain": [
              "0    40\n",
              "1    20\n",
              "2    30\n",
              "3    20\n",
              "4    10\n",
              "dtype: int64"
            ]
          },
          "execution_count": 59,
          "metadata": {},
          "output_type": "execute_result"
        }
      ],
      "source": [
        "# example 1\n",
        "s = pd.Series([40, 20, 30, 20, 10])\n",
        "s"
      ]
    },
    {
      "cell_type": "code",
      "execution_count": null,
      "metadata": {
        "id": "hfSZ8iug0KRs",
        "outputId": "288222be-c4c7-4ac1-b320-f8bbcd9d209d"
      },
      "outputs": [
        {
          "data": {
            "text/plain": [
              "0    42.0\n",
              "1    20.0\n",
              "2    30.0\n",
              "3    20.0\n",
              "4     9.8\n",
              "dtype: float64"
            ]
          },
          "execution_count": 60,
          "metadata": {},
          "output_type": "execute_result"
        }
      ],
      "source": [
        "s.replace(to_replace=[40, 10], value=[42, 9.8])"
      ]
    },
    {
      "cell_type": "code",
      "execution_count": null,
      "metadata": {
        "id": "mnYiqIZd0KRs",
        "outputId": "3fc644d5-d5ae-4115-9845-0d12cbcd9ec6"
      },
      "outputs": [
        {
          "data": {
            "text/plain": [
              "0    42.0\n",
              "1    20.0\n",
              "2    30.0\n",
              "3    20.0\n",
              "4     9.8\n",
              "dtype: float64"
            ]
          },
          "execution_count": 61,
          "metadata": {},
          "output_type": "execute_result"
        }
      ],
      "source": [
        "s.replace(to_replace={40: 42,\n",
        "                      10: 9.8})"
      ]
    },
    {
      "cell_type": "code",
      "execution_count": null,
      "metadata": {
        "id": "WPLLcf-H0KRs"
      },
      "outputs": [],
      "source": [
        "# example 2\n",
        "s = pd.Series([\"Dave\", \"Suzy\", \"Adam\", \"Livz\"])"
      ]
    },
    {
      "cell_type": "code",
      "execution_count": null,
      "metadata": {
        "id": "-2QIWG4l0KRs",
        "outputId": "6578c750-1616-47fd-86ac-a5027bc4a627"
      },
      "outputs": [
        {
          "data": {
            "text/plain": [
              "0       Dave\n",
              "1    Suzanne\n",
              "2       Adam\n",
              "3       Livz\n",
              "dtype: object"
            ]
          },
          "execution_count": 68,
          "metadata": {},
          "output_type": "execute_result"
        }
      ],
      "source": [
        "s.replace(to_replace=\"Suzy\", value=\"Suzanne\")"
      ]
    },
    {
      "cell_type": "code",
      "execution_count": null,
      "metadata": {
        "id": "rwheAvZ40KRt",
        "outputId": "70da6f4a-0177-47bd-df61-eb327f19e00e"
      },
      "outputs": [
        {
          "data": {
            "text/plain": [
              "0       Dave\n",
              "1    Suzanne\n",
              "2       Adam\n",
              "3       Livz\n",
              "dtype: object"
            ]
          },
          "execution_count": 69,
          "metadata": {},
          "output_type": "execute_result"
        }
      ],
      "source": [
        "s.replace(to_replace={'Suzy': 'Suzanne'})"
      ]
    },
    {
      "cell_type": "code",
      "execution_count": null,
      "metadata": {
        "id": "lnseRFf-0KRt",
        "outputId": "c4cdd9aa-0802-4031-b51c-700dd48296a5"
      },
      "outputs": [
        {
          "data": {
            "text/plain": [
              "0        Dave\n",
              "1     Suzanne\n",
              "2        Adam\n",
              "3    Livzanne\n",
              "dtype: object"
            ]
          },
          "execution_count": 70,
          "metadata": {},
          "output_type": "execute_result"
        }
      ],
      "source": [
        "s.replace(to_replace='z.*', value='zanne', regex=True)"
      ]
    },
    {
      "cell_type": "markdown",
      "metadata": {
        "id": "5LF9I7_Q0KRt"
      },
      "source": [
        "## 9.12 Binning Data"
      ]
    },
    {
      "cell_type": "markdown",
      "metadata": {
        "id": "IyLuJvR70KRt"
      },
      "source": [
        "- Create bins of equal width"
      ]
    },
    {
      "cell_type": "code",
      "execution_count": null,
      "metadata": {
        "id": "RJ_1TBws0KRt",
        "outputId": "93bac7c8-acfc-49e3-9962-c72463041998"
      },
      "outputs": [
        {
          "data": {
            "text/plain": [
              "0        (5.856, 20.4]\n",
              "1        (5.856, 20.4]\n",
              "2         (20.4, 34.8]\n",
              "3        (5.856, 20.4]\n",
              "4        (5.856, 20.4]\n",
              "             ...      \n",
              "41139    (5.856, 20.4]\n",
              "41140    (5.856, 20.4]\n",
              "41141    (5.856, 20.4]\n",
              "41142    (5.856, 20.4]\n",
              "41143    (5.856, 20.4]\n",
              "Name: city08, Length: 41144, dtype: category\n",
              "Categories (10, interval[float64, right]): [(5.856, 20.4] < (20.4, 34.8] < (34.8, 49.2] < (49.2, 63.6] ... (92.4, 106.8] < (106.8, 121.2] < (121.2, 135.6] < (135.6, 150.0]]"
            ]
          },
          "execution_count": 58,
          "metadata": {},
          "output_type": "execute_result"
        }
      ],
      "source": [
        "pd.cut(city_mpg, 10)"
      ]
    },
    {
      "cell_type": "code",
      "execution_count": null,
      "metadata": {
        "id": "hRGO1OVm0KRu",
        "outputId": "8d614752-55dc-48e7-9bf8-84bd393ddac6"
      },
      "outputs": [
        {
          "data": {
            "text/plain": [
              "0        (10, 20]\n",
              "1         (0, 10]\n",
              "2        (20, 40]\n",
              "3         (0, 10]\n",
              "4        (10, 20]\n",
              "           ...   \n",
              "41139    (10, 20]\n",
              "41140    (10, 20]\n",
              "41141    (10, 20]\n",
              "41142    (10, 20]\n",
              "41143    (10, 20]\n",
              "Name: city08, Length: 41144, dtype: category\n",
              "Categories (5, interval[int64, right]): [(0, 10] < (10, 20] < (20, 40] < (40, 70] < (70, 150]]"
            ]
          },
          "execution_count": 71,
          "metadata": {},
          "output_type": "execute_result"
        }
      ],
      "source": [
        "# specific sizes for bin edges\n",
        "pd.cut(city_mpg, [0, 10, 20, 40, 70, 150])"
      ]
    },
    {
      "cell_type": "markdown",
      "metadata": {
        "id": "LSnXKc-J0KRu"
      },
      "source": [
        "- Bins do not start with start value but do include the end value.\n",
        "- We can bin data with quantiles instead\n",
        "- If we want 10 bins that had approximately the same number of entires in each bin (rather than each bin width being same), we can use ``qcut``"
      ]
    },
    {
      "cell_type": "code",
      "execution_count": null,
      "metadata": {
        "id": "E2lOshM50KRu",
        "outputId": "b782ec9f-e286-41e5-c663-187df6b27a5c"
      },
      "outputs": [
        {
          "data": {
            "text/plain": [
              "0         (18.0, 20.0]\n",
              "1        (5.999, 13.0]\n",
              "2         (21.0, 24.0]\n",
              "3        (5.999, 13.0]\n",
              "4         (16.0, 17.0]\n",
              "             ...      \n",
              "41139     (18.0, 20.0]\n",
              "41140     (18.0, 20.0]\n",
              "41141     (17.0, 18.0]\n",
              "41142     (17.0, 18.0]\n",
              "41143     (15.0, 16.0]\n",
              "Name: city08, Length: 41144, dtype: category\n",
              "Categories (10, interval[float64, right]): [(5.999, 13.0] < (13.0, 14.0] < (14.0, 15.0] < (15.0, 16.0] ... (18.0, 20.0] < (20.0, 21.0] < (21.0, 24.0] < (24.0, 150.0]]"
            ]
          },
          "execution_count": 74,
          "metadata": {},
          "output_type": "execute_result"
        }
      ],
      "source": [
        "pd.qcut(city_mpg, 10)"
      ]
    },
    {
      "cell_type": "code",
      "execution_count": null,
      "metadata": {
        "id": "GTiTFnSe0KRu",
        "outputId": "bbc193c7-0c7d-4656-aea9-e800fd3a9e78"
      },
      "outputs": [
        {
          "data": {
            "text/plain": [
              "0        7\n",
              "1        1\n",
              "2        9\n",
              "3        1\n",
              "4        5\n",
              "        ..\n",
              "41139    7\n",
              "41140    7\n",
              "41141    6\n",
              "41142    6\n",
              "41143    4\n",
              "Name: city08, Length: 41144, dtype: category\n",
              "Categories (10, int64): [1 < 2 < 3 < 4 ... 7 < 8 < 9 < 10]"
            ]
          },
          "execution_count": 75,
          "metadata": {},
          "output_type": "execute_result"
        }
      ],
      "source": [
        "pd.qcut(city_mpg, 10, labels=list(range(1,11)))"
      ]
    },
    {
      "cell_type": "code",
      "execution_count": null,
      "metadata": {
        "id": "aYPSMEad0KRv"
      },
      "outputs": [],
      "source": []
    }
  ],
  "metadata": {
    "kernelspec": {
      "display_name": "Python 3.10.8 ('effective-pandas')",
      "language": "python",
      "name": "python3"
    },
    "language_info": {
      "codemirror_mode": {
        "name": "ipython",
        "version": 3
      },
      "file_extension": ".py",
      "mimetype": "text/x-python",
      "name": "python",
      "nbconvert_exporter": "python",
      "pygments_lexer": "ipython3",
      "version": "3.10.8"
    },
    "orig_nbformat": 4,
    "vscode": {
      "interpreter": {
        "hash": "916f15ef99c20fa40d55a2f85302b4abf960d09ddbbdff0ce9a6a05a29866fa2"
      }
    },
    "colab": {
      "provenance": []
    }
  },
  "nbformat": 4,
  "nbformat_minor": 0
}